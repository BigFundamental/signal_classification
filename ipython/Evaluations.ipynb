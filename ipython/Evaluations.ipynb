{
 "cells": [
  {
   "cell_type": "code",
   "execution_count": 16,
   "metadata": {},
   "outputs": [
    {
     "name": "stdout",
     "output_type": "stream",
     "text": [
      "The autoreload extension is already loaded. To reload it, use:\n",
      "  %reload_ext autoreload\n"
     ]
    }
   ],
   "source": [
    "%load_ext autoreload\n",
    "%autoreload 2\n",
    "%reload_ext autoreload\n",
    "from feature_extractor import FeatureExtractor\n",
    "from classifier import Classifier\n",
    "from signal_manager import SignalMgr\n",
    "from filter import Filter\n",
    "import numpy as np\n",
    "import pandas as pd\n",
    "from matplotlib import pyplot as plt\n",
    "from model import ModelVersionFeatureConfig\n",
    "%matplotlib inline\n",
    "\n",
    "feaExtractor = FeatureExtractor()\n",
    "# classifier = Classifier()\n",
    "sigMgr = SignalMgr()\n",
    "\n",
    "# norm_signal = sigMgr.normalize_signals(signals)"
   ]
  },
  {
   "cell_type": "code",
   "execution_count": 17,
   "metadata": {},
   "outputs": [],
   "source": [
    "from signal_manager import SignalMgr \n",
    "from model import ModelVersionFeatureConfig\n",
    "from data_reader import DataReader\n",
    "from sklearn.metrics import classification_report\n",
    "\n",
    "class Eval(object):\n",
    "    \"\"\"\n",
    "    evaluation class used to compare model & features on test suites\n",
    "    \"\"\"\n",
    "    def __init__(self):\n",
    "        self.features = []\n",
    "        self.model_path = []\n",
    "        self.dreader = DataReader()\n",
    "        self.request_param = dict()\n",
    "        self.request_param['skip_row'] = [1]\n",
    "        self.sigMgr = SignalMgr()\n",
    "        pass\n",
    "    \n",
    "    def eval(self, test_suite_dirs, model_version = ''):\n",
    "        \"\"\"\n",
    "        load model from model_version or model_path (absolute path)\n",
    "        \"\"\"\n",
    "        # initialize classifier\n",
    "        if not ModelVersionFeatureConfig.has_key(model_version):\n",
    "            print \"model_version: %s is not exist\" % model_version\n",
    "            return False\n",
    "        \n",
    "        self.request_param['model_version'] = model_version\n",
    "        # read target evaluation datas\n",
    "        case_labels = list()\n",
    "        for test_suite_sub_dir in test_suite_dirs:\n",
    "            case_dir = self.dreader.search_label_files(test_suite_sub_dir)\n",
    "            case_labels.extend(case_dir)\n",
    "        \n",
    "        #create data frames\n",
    "        eval_df = self.dreader.create_index(case_labels)\n",
    "        sys_eval_result = list()\n",
    "        for index, row in eval_df.iterrows():\n",
    "            case_path = row['case_path']\n",
    "            ret = self.sigMgr.process(case_path, self.request_param)\n",
    "            sys_eval_result.append(int(ret['stat']))\n",
    "        \n",
    "        eval_df['sys_result'] = sys_eval_result\n",
    "        print(classification_report(eval_df['expect_result'], eval_df['sys_result']))\n",
    "        return eval_df"
   ]
  },
  {
   "cell_type": "code",
   "execution_count": 18,
   "metadata": {
    "collapsed": true
   },
   "outputs": [],
   "source": [
    "evalMgr = Eval()"
   ]
  },
  {
   "cell_type": "code",
   "execution_count": 19,
   "metadata": {},
   "outputs": [
    {
     "name": "stdout",
     "output_type": "stream",
     "text": [
      "/Users/changkong/ML/Signal Classification/testData/0830_1005_Data.20180614/result.csv 1700 1700\n"
     ]
    },
    {
     "name": "stderr",
     "output_type": "stream",
     "text": [
      "classifier.py:49: RuntimeWarning: invalid value encountered in divide\n",
      "  return (signals - mean) / delta\n",
      "feature_extractor.py:53: RuntimeWarning: invalid value encountered in greater\n",
      "  masks = peaks > threshold\n",
      "feature_extractor.py:55: RuntimeWarning: invalid value encountered in less\n",
      "  masks = peaks < threshold\n"
     ]
    },
    {
     "name": "stdout",
     "output_type": "stream",
     "text": [
      "             precision    recall  f1-score   support\n",
      "\n",
      "          0       0.04      0.33      0.06         3\n",
      "          1       1.00      0.98      0.99      1697\n",
      "\n",
      "avg / total       1.00      0.98      0.99      1700\n",
      "\n"
     ]
    }
   ],
   "source": [
    "df_0830_predict = evalMgr.eval(['/Users/changkong/ML/Signal Classification/testData/0830_1005_Data.20180614'], model_version='test')"
   ]
  },
  {
   "cell_type": "code",
   "execution_count": 21,
   "metadata": {},
   "outputs": [
    {
     "name": "stdout",
     "output_type": "stream",
     "text": [
      "/Users/changkong/ML/Signal Classification/testData/0830_1005_Data.20180614/result.csv 1700 1700\n",
      "             precision    recall  f1-score   support\n",
      "\n",
      "          0       0.04      0.33      0.07         3\n",
      "          1       1.00      0.99      0.99      1697\n",
      "\n",
      "avg / total       1.00      0.98      0.99      1700\n",
      "\n"
     ]
    }
   ],
   "source": [
    "df_0830_1005_predict = evalMgr.eval(['/Users/changkong/ML/Signal Classification/testData/0830_1005_Data.20180614'], model_version='gbdt_0830_BA')"
   ]
  },
  {
   "cell_type": "code",
   "execution_count": 15,
   "metadata": {},
   "outputs": [],
   "source": [
    "error_result = df_0830_1005_predict[df_0830_1005_predict.sys_result != df_0830_1005_predict.expect_result]"
   ]
  },
  {
   "cell_type": "code",
   "execution_count": 55,
   "metadata": {},
   "outputs": [],
   "source": [
    "tp = error_result[error_result.expect_result == 1].reset_index(drop=True)"
   ]
  },
  {
   "cell_type": "code",
   "execution_count": 88,
   "metadata": {},
   "outputs": [
    {
     "data": {
      "text/plain": [
       "<matplotlib.axes._subplots.AxesSubplot at 0x112ac7290>"
      ]
     },
     "execution_count": 88,
     "metadata": {},
     "output_type": "execute_result"
    },
    {
     "data": {
      "image/png": "[encoded data removed]",
      "text/plain": [
       "<matplotlib.figure.Figure at 0x112ad9310>"
      ]
     },
     "metadata": {},
     "output_type": "display_data"
    }
   ],
   "source": [
    "signal_fpath = tp[tp.reason == 5]['case_path'].reset_index(drop=True)[16]\n",
    "df_signals = pd.read_csv(signal_fpath, skiprows=1, header=None, names=['sig'])\n",
    "df_signals[0:500].plot()"
   ]
  },
  {
   "cell_type": "code",
   "execution_count": null,
   "metadata": {
    "collapsed": true
   },
   "outputs": [],
   "source": []
  }
 ],
 "metadata": {
  "kernelspec": {
   "display_name": "Python 2",
   "language": "python",
   "name": "python2"
  },
  "language_info": {
   "codemirror_mode": {
    "name": "ipython",
    "version": 2
   },
   "file_extension": ".py",
   "mimetype": "text/x-python",
   "name": "python",
   "nbconvert_exporter": "python",
   "pygments_lexer": "ipython2",
   "version": "2.7.15"
  }
 },
 "nbformat": 4,
 "nbformat_minor": 2
}
