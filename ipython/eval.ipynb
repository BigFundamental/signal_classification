{
 "cells": [
  {
   "cell_type": "code",
   "execution_count": 22,
   "metadata": {
    "collapsed": false
   },
   "outputs": [
    {
     "name": "stdout",
     "output_type": "stream",
     "text": [
      "The autoreload extension is already loaded. To reload it, use:\n",
      "  %reload_ext autoreload\n"
     ]
    }
   ],
   "source": [
    "%load_ext autoreload\n",
    "%autoreload 2\n",
    "from feature_extractor import FeatureExtractor\n",
    "from classifier import Classifier\n",
    "from signal_manager import SignalMgr\n",
    "from filter import Filter\n",
    "import numpy as np\n",
    "import pandas as pd\n",
    "from matplotlib import pyplot as plt\n",
    "%matplotlib inline\n",
    "\n",
    "feaExtractor = FeatureExtractor()\n",
    "classifier = Classifier\n",
    "sigMgr = SignalMgr()\n",
    "\n",
    "# norm_signal = sigMgr.normalize_signals(signals)"
   ]
  },
  {
   "cell_type": "code",
   "execution_count": 23,
   "metadata": {
    "collapsed": false
   },
   "outputs": [],
   "source": [
    "import os, sys\n",
    "## start evaluation of data\n",
    "# TEST_LABEL = '/Users/changkong/ML/Signal Classification/testData/20180204/labels.csv'\n",
    "RESULT_FPATH = '/Users/changkong/ML/Signal Classification/3_Application/label.csv'\n",
    "# get all data from \n",
    "TEST_DATA_ROOT = \"/Users/changkong/ML/Signal Classification/3_Application/Data/\""
   ]
  },
  {
   "cell_type": "code",
   "execution_count": 3,
   "metadata": {
    "collapsed": false
   },
   "outputs": [],
   "source": [
    "def get_signal_list(root_path, file_name = 'Channel_1.csv'):\n",
    "    test_suites = os.listdir(root_path)\n",
    "    test_cases_path = []\n",
    "    expect_result = []\n",
    "    for test in test_suites:\n",
    "        dir_path = os.path.join(root_path, test)\n",
    "        if not os.path.isdir(dir_path):\n",
    "            continue\n",
    "        case_path = os.path.join(dir_path, file_name)\n",
    "        if not os.path.isfile(case_path):\n",
    "            continue\n",
    "        test_cases_path.append(case_path)\n",
    "        with open(case_path, 'r') as fhandler:\n",
    "            ret = fhandler.readline().strip()\n",
    "            if int(ret) > 0:\n",
    "                ret = 1\n",
    "            else:\n",
    "                ret = 0\n",
    "            expect_result.append(ret)\n",
    "    return (test_cases_path, expect_result) "
   ]
  },
  {
   "cell_type": "code",
   "execution_count": 4,
   "metadata": {
    "collapsed": false
   },
   "outputs": [],
   "source": [
    "pathes, ret = get_signal_list(TEST_DATA_ROOT)"
   ]
  },
  {
   "cell_type": "code",
   "execution_count": 5,
   "metadata": {
    "collapsed": false
   },
   "outputs": [],
   "source": [
    "label_df = pd.read_csv(RESULT_FPATH, header=None, skiprows=1, names=['case_name', 'expect_result'], dtype={'expect_result':np.int32}).dropna()"
   ]
  },
  {
   "cell_type": "code",
   "execution_count": 6,
   "metadata": {
    "collapsed": false
   },
   "outputs": [],
   "source": [
    "test_cases_df = pd.DataFrame(pathes, columns= ['case_path'])\n",
    "test_cases_df['case_name'] = test_cases_df['case_path'].apply(lambda x: x.split('/')[-2])\n",
    "test_cases_df['expect_result'] = ret\n",
    "test_labels = test_cases_df.merge(label_df, on='case_name')"
   ]
  },
  {
   "cell_type": "code",
   "execution_count": 7,
   "metadata": {
    "collapsed": false
   },
   "outputs": [
    {
     "data": {
      "text/html": [
       "<div>\n",
       "<style>\n",
       "    .dataframe thead tr:only-child th {\n",
       "        text-align: right;\n",
       "    }\n",
       "\n",
       "    .dataframe thead th {\n",
       "        text-align: left;\n",
       "    }\n",
       "\n",
       "    .dataframe tbody tr th {\n",
       "        vertical-align: top;\n",
       "    }\n",
       "</style>\n",
       "<table border=\"1\" class=\"dataframe\">\n",
       "  <thead>\n",
       "    <tr style=\"text-align: right;\">\n",
       "      <th></th>\n",
       "      <th>case_path</th>\n",
       "      <th>case_name</th>\n",
       "      <th>expect_result_x</th>\n",
       "      <th>expect_result_y</th>\n",
       "    </tr>\n",
       "  </thead>\n",
       "  <tbody>\n",
       "    <tr>\n",
       "      <th>0</th>\n",
       "      <td>/Users/changkong/ML/Signal Classification/3_Ap...</td>\n",
       "      <td>20180325_090536</td>\n",
       "      <td>1</td>\n",
       "      <td>0</td>\n",
       "    </tr>\n",
       "    <tr>\n",
       "      <th>1</th>\n",
       "      <td>/Users/changkong/ML/Signal Classification/3_Ap...</td>\n",
       "      <td>20180325_090637</td>\n",
       "      <td>0</td>\n",
       "      <td>3</td>\n",
       "    </tr>\n",
       "    <tr>\n",
       "      <th>2</th>\n",
       "      <td>/Users/changkong/ML/Signal Classification/3_Ap...</td>\n",
       "      <td>20180325_091016</td>\n",
       "      <td>0</td>\n",
       "      <td>1</td>\n",
       "    </tr>\n",
       "    <tr>\n",
       "      <th>3</th>\n",
       "      <td>/Users/changkong/ML/Signal Classification/3_Ap...</td>\n",
       "      <td>20180325_091047</td>\n",
       "      <td>0</td>\n",
       "      <td>0</td>\n",
       "    </tr>\n",
       "    <tr>\n",
       "      <th>4</th>\n",
       "      <td>/Users/changkong/ML/Signal Classification/3_Ap...</td>\n",
       "      <td>20180325_091103</td>\n",
       "      <td>0</td>\n",
       "      <td>1</td>\n",
       "    </tr>\n",
       "    <tr>\n",
       "      <th>5</th>\n",
       "      <td>/Users/changkong/ML/Signal Classification/3_Ap...</td>\n",
       "      <td>20180325_091138</td>\n",
       "      <td>0</td>\n",
       "      <td>0</td>\n",
       "    </tr>\n",
       "    <tr>\n",
       "      <th>6</th>\n",
       "      <td>/Users/changkong/ML/Signal Classification/3_Ap...</td>\n",
       "      <td>20180325_091155</td>\n",
       "      <td>0</td>\n",
       "      <td>1</td>\n",
       "    </tr>\n",
       "    <tr>\n",
       "      <th>7</th>\n",
       "      <td>/Users/changkong/ML/Signal Classification/3_Ap...</td>\n",
       "      <td>20180325_091224</td>\n",
       "      <td>0</td>\n",
       "      <td>0</td>\n",
       "    </tr>\n",
       "    <tr>\n",
       "      <th>8</th>\n",
       "      <td>/Users/changkong/ML/Signal Classification/3_Ap...</td>\n",
       "      <td>20180325_091237</td>\n",
       "      <td>0</td>\n",
       "      <td>1</td>\n",
       "    </tr>\n",
       "    <tr>\n",
       "      <th>9</th>\n",
       "      <td>/Users/changkong/ML/Signal Classification/3_Ap...</td>\n",
       "      <td>20180325_091316</td>\n",
       "      <td>0</td>\n",
       "      <td>1</td>\n",
       "    </tr>\n",
       "    <tr>\n",
       "      <th>10</th>\n",
       "      <td>/Users/changkong/ML/Signal Classification/3_Ap...</td>\n",
       "      <td>20180325_091349</td>\n",
       "      <td>0</td>\n",
       "      <td>0</td>\n",
       "    </tr>\n",
       "    <tr>\n",
       "      <th>11</th>\n",
       "      <td>/Users/changkong/ML/Signal Classification/3_Ap...</td>\n",
       "      <td>20180325_091403</td>\n",
       "      <td>0</td>\n",
       "      <td>0</td>\n",
       "    </tr>\n",
       "    <tr>\n",
       "      <th>12</th>\n",
       "      <td>/Users/changkong/ML/Signal Classification/3_Ap...</td>\n",
       "      <td>20180325_091414</td>\n",
       "      <td>0</td>\n",
       "      <td>0</td>\n",
       "    </tr>\n",
       "    <tr>\n",
       "      <th>13</th>\n",
       "      <td>/Users/changkong/ML/Signal Classification/3_Ap...</td>\n",
       "      <td>20180325_091432</td>\n",
       "      <td>0</td>\n",
       "      <td>0</td>\n",
       "    </tr>\n",
       "    <tr>\n",
       "      <th>14</th>\n",
       "      <td>/Users/changkong/ML/Signal Classification/3_Ap...</td>\n",
       "      <td>20180325_091520</td>\n",
       "      <td>1</td>\n",
       "      <td>0</td>\n",
       "    </tr>\n",
       "    <tr>\n",
       "      <th>15</th>\n",
       "      <td>/Users/changkong/ML/Signal Classification/3_Ap...</td>\n",
       "      <td>20180325_091533</td>\n",
       "      <td>0</td>\n",
       "      <td>1</td>\n",
       "    </tr>\n",
       "    <tr>\n",
       "      <th>16</th>\n",
       "      <td>/Users/changkong/ML/Signal Classification/3_Ap...</td>\n",
       "      <td>20180325_091554</td>\n",
       "      <td>0</td>\n",
       "      <td>0</td>\n",
       "    </tr>\n",
       "    <tr>\n",
       "      <th>17</th>\n",
       "      <td>/Users/changkong/ML/Signal Classification/3_Ap...</td>\n",
       "      <td>20180325_091605</td>\n",
       "      <td>1</td>\n",
       "      <td>2</td>\n",
       "    </tr>\n",
       "    <tr>\n",
       "      <th>18</th>\n",
       "      <td>/Users/changkong/ML/Signal Classification/3_Ap...</td>\n",
       "      <td>20180325_091639</td>\n",
       "      <td>0</td>\n",
       "      <td>1</td>\n",
       "    </tr>\n",
       "    <tr>\n",
       "      <th>19</th>\n",
       "      <td>/Users/changkong/ML/Signal Classification/3_Ap...</td>\n",
       "      <td>20180325_091649</td>\n",
       "      <td>1</td>\n",
       "      <td>0</td>\n",
       "    </tr>\n",
       "    <tr>\n",
       "      <th>20</th>\n",
       "      <td>/Users/changkong/ML/Signal Classification/3_Ap...</td>\n",
       "      <td>20180325_091659</td>\n",
       "      <td>0</td>\n",
       "      <td>0</td>\n",
       "    </tr>\n",
       "    <tr>\n",
       "      <th>21</th>\n",
       "      <td>/Users/changkong/ML/Signal Classification/3_Ap...</td>\n",
       "      <td>20180325_091714</td>\n",
       "      <td>0</td>\n",
       "      <td>1</td>\n",
       "    </tr>\n",
       "    <tr>\n",
       "      <th>22</th>\n",
       "      <td>/Users/changkong/ML/Signal Classification/3_Ap...</td>\n",
       "      <td>20180325_091726</td>\n",
       "      <td>0</td>\n",
       "      <td>1</td>\n",
       "    </tr>\n",
       "    <tr>\n",
       "      <th>23</th>\n",
       "      <td>/Users/changkong/ML/Signal Classification/3_Ap...</td>\n",
       "      <td>20180325_091750</td>\n",
       "      <td>0</td>\n",
       "      <td>0</td>\n",
       "    </tr>\n",
       "    <tr>\n",
       "      <th>24</th>\n",
       "      <td>/Users/changkong/ML/Signal Classification/3_Ap...</td>\n",
       "      <td>20180325_091802</td>\n",
       "      <td>0</td>\n",
       "      <td>0</td>\n",
       "    </tr>\n",
       "    <tr>\n",
       "      <th>25</th>\n",
       "      <td>/Users/changkong/ML/Signal Classification/3_Ap...</td>\n",
       "      <td>20180325_091816</td>\n",
       "      <td>0</td>\n",
       "      <td>0</td>\n",
       "    </tr>\n",
       "    <tr>\n",
       "      <th>26</th>\n",
       "      <td>/Users/changkong/ML/Signal Classification/3_Ap...</td>\n",
       "      <td>20180325_091832</td>\n",
       "      <td>0</td>\n",
       "      <td>2</td>\n",
       "    </tr>\n",
       "    <tr>\n",
       "      <th>27</th>\n",
       "      <td>/Users/changkong/ML/Signal Classification/3_Ap...</td>\n",
       "      <td>20180325_091842</td>\n",
       "      <td>0</td>\n",
       "      <td>0</td>\n",
       "    </tr>\n",
       "    <tr>\n",
       "      <th>28</th>\n",
       "      <td>/Users/changkong/ML/Signal Classification/3_Ap...</td>\n",
       "      <td>20180325_091854</td>\n",
       "      <td>0</td>\n",
       "      <td>0</td>\n",
       "    </tr>\n",
       "    <tr>\n",
       "      <th>29</th>\n",
       "      <td>/Users/changkong/ML/Signal Classification/3_Ap...</td>\n",
       "      <td>20180325_091917</td>\n",
       "      <td>0</td>\n",
       "      <td>1</td>\n",
       "    </tr>\n",
       "    <tr>\n",
       "      <th>...</th>\n",
       "      <td>...</td>\n",
       "      <td>...</td>\n",
       "      <td>...</td>\n",
       "      <td>...</td>\n",
       "    </tr>\n",
       "    <tr>\n",
       "      <th>70</th>\n",
       "      <td>/Users/changkong/ML/Signal Classification/3_Ap...</td>\n",
       "      <td>20180325_093133</td>\n",
       "      <td>0</td>\n",
       "      <td>0</td>\n",
       "    </tr>\n",
       "    <tr>\n",
       "      <th>71</th>\n",
       "      <td>/Users/changkong/ML/Signal Classification/3_Ap...</td>\n",
       "      <td>20180325_093146</td>\n",
       "      <td>0</td>\n",
       "      <td>0</td>\n",
       "    </tr>\n",
       "    <tr>\n",
       "      <th>72</th>\n",
       "      <td>/Users/changkong/ML/Signal Classification/3_Ap...</td>\n",
       "      <td>20180325_093208</td>\n",
       "      <td>1</td>\n",
       "      <td>3</td>\n",
       "    </tr>\n",
       "    <tr>\n",
       "      <th>73</th>\n",
       "      <td>/Users/changkong/ML/Signal Classification/3_Ap...</td>\n",
       "      <td>20180325_093217</td>\n",
       "      <td>0</td>\n",
       "      <td>0</td>\n",
       "    </tr>\n",
       "    <tr>\n",
       "      <th>74</th>\n",
       "      <td>/Users/changkong/ML/Signal Classification/3_Ap...</td>\n",
       "      <td>20180325_093242</td>\n",
       "      <td>0</td>\n",
       "      <td>1</td>\n",
       "    </tr>\n",
       "    <tr>\n",
       "      <th>75</th>\n",
       "      <td>/Users/changkong/ML/Signal Classification/3_Ap...</td>\n",
       "      <td>20180325_093255</td>\n",
       "      <td>0</td>\n",
       "      <td>0</td>\n",
       "    </tr>\n",
       "    <tr>\n",
       "      <th>76</th>\n",
       "      <td>/Users/changkong/ML/Signal Classification/3_Ap...</td>\n",
       "      <td>20180325_093328</td>\n",
       "      <td>0</td>\n",
       "      <td>0</td>\n",
       "    </tr>\n",
       "    <tr>\n",
       "      <th>77</th>\n",
       "      <td>/Users/changkong/ML/Signal Classification/3_Ap...</td>\n",
       "      <td>20180325_093340</td>\n",
       "      <td>0</td>\n",
       "      <td>1</td>\n",
       "    </tr>\n",
       "    <tr>\n",
       "      <th>78</th>\n",
       "      <td>/Users/changkong/ML/Signal Classification/3_Ap...</td>\n",
       "      <td>20180325_093350</td>\n",
       "      <td>0</td>\n",
       "      <td>1</td>\n",
       "    </tr>\n",
       "    <tr>\n",
       "      <th>79</th>\n",
       "      <td>/Users/changkong/ML/Signal Classification/3_Ap...</td>\n",
       "      <td>20180325_093358</td>\n",
       "      <td>0</td>\n",
       "      <td>0</td>\n",
       "    </tr>\n",
       "    <tr>\n",
       "      <th>80</th>\n",
       "      <td>/Users/changkong/ML/Signal Classification/3_Ap...</td>\n",
       "      <td>20180325_093408</td>\n",
       "      <td>1</td>\n",
       "      <td>2</td>\n",
       "    </tr>\n",
       "    <tr>\n",
       "      <th>81</th>\n",
       "      <td>/Users/changkong/ML/Signal Classification/3_Ap...</td>\n",
       "      <td>20180325_093416</td>\n",
       "      <td>1</td>\n",
       "      <td>2</td>\n",
       "    </tr>\n",
       "    <tr>\n",
       "      <th>82</th>\n",
       "      <td>/Users/changkong/ML/Signal Classification/3_Ap...</td>\n",
       "      <td>20180325_093500</td>\n",
       "      <td>0</td>\n",
       "      <td>0</td>\n",
       "    </tr>\n",
       "    <tr>\n",
       "      <th>83</th>\n",
       "      <td>/Users/changkong/ML/Signal Classification/3_Ap...</td>\n",
       "      <td>20180325_093516</td>\n",
       "      <td>1</td>\n",
       "      <td>2</td>\n",
       "    </tr>\n",
       "    <tr>\n",
       "      <th>84</th>\n",
       "      <td>/Users/changkong/ML/Signal Classification/3_Ap...</td>\n",
       "      <td>20180325_093533</td>\n",
       "      <td>0</td>\n",
       "      <td>1</td>\n",
       "    </tr>\n",
       "    <tr>\n",
       "      <th>85</th>\n",
       "      <td>/Users/changkong/ML/Signal Classification/3_Ap...</td>\n",
       "      <td>20180325_093546</td>\n",
       "      <td>0</td>\n",
       "      <td>0</td>\n",
       "    </tr>\n",
       "    <tr>\n",
       "      <th>86</th>\n",
       "      <td>/Users/changkong/ML/Signal Classification/3_Ap...</td>\n",
       "      <td>20180325_093558</td>\n",
       "      <td>0</td>\n",
       "      <td>0</td>\n",
       "    </tr>\n",
       "    <tr>\n",
       "      <th>87</th>\n",
       "      <td>/Users/changkong/ML/Signal Classification/3_Ap...</td>\n",
       "      <td>20180325_093608</td>\n",
       "      <td>0</td>\n",
       "      <td>0</td>\n",
       "    </tr>\n",
       "    <tr>\n",
       "      <th>88</th>\n",
       "      <td>/Users/changkong/ML/Signal Classification/3_Ap...</td>\n",
       "      <td>20180325_093618</td>\n",
       "      <td>1</td>\n",
       "      <td>0</td>\n",
       "    </tr>\n",
       "    <tr>\n",
       "      <th>89</th>\n",
       "      <td>/Users/changkong/ML/Signal Classification/3_Ap...</td>\n",
       "      <td>20180325_093629</td>\n",
       "      <td>0</td>\n",
       "      <td>0</td>\n",
       "    </tr>\n",
       "    <tr>\n",
       "      <th>90</th>\n",
       "      <td>/Users/changkong/ML/Signal Classification/3_Ap...</td>\n",
       "      <td>20180325_093642</td>\n",
       "      <td>1</td>\n",
       "      <td>1</td>\n",
       "    </tr>\n",
       "    <tr>\n",
       "      <th>91</th>\n",
       "      <td>/Users/changkong/ML/Signal Classification/3_Ap...</td>\n",
       "      <td>20180325_093716</td>\n",
       "      <td>0</td>\n",
       "      <td>1</td>\n",
       "    </tr>\n",
       "    <tr>\n",
       "      <th>92</th>\n",
       "      <td>/Users/changkong/ML/Signal Classification/3_Ap...</td>\n",
       "      <td>20180325_093732</td>\n",
       "      <td>0</td>\n",
       "      <td>1</td>\n",
       "    </tr>\n",
       "    <tr>\n",
       "      <th>93</th>\n",
       "      <td>/Users/changkong/ML/Signal Classification/3_Ap...</td>\n",
       "      <td>20180325_093803</td>\n",
       "      <td>0</td>\n",
       "      <td>0</td>\n",
       "    </tr>\n",
       "    <tr>\n",
       "      <th>94</th>\n",
       "      <td>/Users/changkong/ML/Signal Classification/3_Ap...</td>\n",
       "      <td>20180325_093820</td>\n",
       "      <td>0</td>\n",
       "      <td>1</td>\n",
       "    </tr>\n",
       "    <tr>\n",
       "      <th>95</th>\n",
       "      <td>/Users/changkong/ML/Signal Classification/3_Ap...</td>\n",
       "      <td>20180325_093833</td>\n",
       "      <td>1</td>\n",
       "      <td>3</td>\n",
       "    </tr>\n",
       "    <tr>\n",
       "      <th>96</th>\n",
       "      <td>/Users/changkong/ML/Signal Classification/3_Ap...</td>\n",
       "      <td>20180325_093840</td>\n",
       "      <td>0</td>\n",
       "      <td>1</td>\n",
       "    </tr>\n",
       "    <tr>\n",
       "      <th>97</th>\n",
       "      <td>/Users/changkong/ML/Signal Classification/3_Ap...</td>\n",
       "      <td>20180325_093901</td>\n",
       "      <td>0</td>\n",
       "      <td>0</td>\n",
       "    </tr>\n",
       "    <tr>\n",
       "      <th>98</th>\n",
       "      <td>/Users/changkong/ML/Signal Classification/3_Ap...</td>\n",
       "      <td>20180325_093909</td>\n",
       "      <td>0</td>\n",
       "      <td>0</td>\n",
       "    </tr>\n",
       "    <tr>\n",
       "      <th>99</th>\n",
       "      <td>/Users/changkong/ML/Signal Classification/3_Ap...</td>\n",
       "      <td>20180325_093918</td>\n",
       "      <td>0</td>\n",
       "      <td>0</td>\n",
       "    </tr>\n",
       "  </tbody>\n",
       "</table>\n",
       "<p>100 rows × 4 columns</p>\n",
       "</div>"
      ],
      "text/plain": [
       "                                            case_path        case_name  \\\n",
       "0   /Users/changkong/ML/Signal Classification/3_Ap...  20180325_090536   \n",
       "1   /Users/changkong/ML/Signal Classification/3_Ap...  20180325_090637   \n",
       "2   /Users/changkong/ML/Signal Classification/3_Ap...  20180325_091016   \n",
       "3   /Users/changkong/ML/Signal Classification/3_Ap...  20180325_091047   \n",
       "4   /Users/changkong/ML/Signal Classification/3_Ap...  20180325_091103   \n",
       "5   /Users/changkong/ML/Signal Classification/3_Ap...  20180325_091138   \n",
       "6   /Users/changkong/ML/Signal Classification/3_Ap...  20180325_091155   \n",
       "7   /Users/changkong/ML/Signal Classification/3_Ap...  20180325_091224   \n",
       "8   /Users/changkong/ML/Signal Classification/3_Ap...  20180325_091237   \n",
       "9   /Users/changkong/ML/Signal Classification/3_Ap...  20180325_091316   \n",
       "10  /Users/changkong/ML/Signal Classification/3_Ap...  20180325_091349   \n",
       "11  /Users/changkong/ML/Signal Classification/3_Ap...  20180325_091403   \n",
       "12  /Users/changkong/ML/Signal Classification/3_Ap...  20180325_091414   \n",
       "13  /Users/changkong/ML/Signal Classification/3_Ap...  20180325_091432   \n",
       "14  /Users/changkong/ML/Signal Classification/3_Ap...  20180325_091520   \n",
       "15  /Users/changkong/ML/Signal Classification/3_Ap...  20180325_091533   \n",
       "16  /Users/changkong/ML/Signal Classification/3_Ap...  20180325_091554   \n",
       "17  /Users/changkong/ML/Signal Classification/3_Ap...  20180325_091605   \n",
       "18  /Users/changkong/ML/Signal Classification/3_Ap...  20180325_091639   \n",
       "19  /Users/changkong/ML/Signal Classification/3_Ap...  20180325_091649   \n",
       "20  /Users/changkong/ML/Signal Classification/3_Ap...  20180325_091659   \n",
       "21  /Users/changkong/ML/Signal Classification/3_Ap...  20180325_091714   \n",
       "22  /Users/changkong/ML/Signal Classification/3_Ap...  20180325_091726   \n",
       "23  /Users/changkong/ML/Signal Classification/3_Ap...  20180325_091750   \n",
       "24  /Users/changkong/ML/Signal Classification/3_Ap...  20180325_091802   \n",
       "25  /Users/changkong/ML/Signal Classification/3_Ap...  20180325_091816   \n",
       "26  /Users/changkong/ML/Signal Classification/3_Ap...  20180325_091832   \n",
       "27  /Users/changkong/ML/Signal Classification/3_Ap...  20180325_091842   \n",
       "28  /Users/changkong/ML/Signal Classification/3_Ap...  20180325_091854   \n",
       "29  /Users/changkong/ML/Signal Classification/3_Ap...  20180325_091917   \n",
       "..                                                ...              ...   \n",
       "70  /Users/changkong/ML/Signal Classification/3_Ap...  20180325_093133   \n",
       "71  /Users/changkong/ML/Signal Classification/3_Ap...  20180325_093146   \n",
       "72  /Users/changkong/ML/Signal Classification/3_Ap...  20180325_093208   \n",
       "73  /Users/changkong/ML/Signal Classification/3_Ap...  20180325_093217   \n",
       "74  /Users/changkong/ML/Signal Classification/3_Ap...  20180325_093242   \n",
       "75  /Users/changkong/ML/Signal Classification/3_Ap...  20180325_093255   \n",
       "76  /Users/changkong/ML/Signal Classification/3_Ap...  20180325_093328   \n",
       "77  /Users/changkong/ML/Signal Classification/3_Ap...  20180325_093340   \n",
       "78  /Users/changkong/ML/Signal Classification/3_Ap...  20180325_093350   \n",
       "79  /Users/changkong/ML/Signal Classification/3_Ap...  20180325_093358   \n",
       "80  /Users/changkong/ML/Signal Classification/3_Ap...  20180325_093408   \n",
       "81  /Users/changkong/ML/Signal Classification/3_Ap...  20180325_093416   \n",
       "82  /Users/changkong/ML/Signal Classification/3_Ap...  20180325_093500   \n",
       "83  /Users/changkong/ML/Signal Classification/3_Ap...  20180325_093516   \n",
       "84  /Users/changkong/ML/Signal Classification/3_Ap...  20180325_093533   \n",
       "85  /Users/changkong/ML/Signal Classification/3_Ap...  20180325_093546   \n",
       "86  /Users/changkong/ML/Signal Classification/3_Ap...  20180325_093558   \n",
       "87  /Users/changkong/ML/Signal Classification/3_Ap...  20180325_093608   \n",
       "88  /Users/changkong/ML/Signal Classification/3_Ap...  20180325_093618   \n",
       "89  /Users/changkong/ML/Signal Classification/3_Ap...  20180325_093629   \n",
       "90  /Users/changkong/ML/Signal Classification/3_Ap...  20180325_093642   \n",
       "91  /Users/changkong/ML/Signal Classification/3_Ap...  20180325_093716   \n",
       "92  /Users/changkong/ML/Signal Classification/3_Ap...  20180325_093732   \n",
       "93  /Users/changkong/ML/Signal Classification/3_Ap...  20180325_093803   \n",
       "94  /Users/changkong/ML/Signal Classification/3_Ap...  20180325_093820   \n",
       "95  /Users/changkong/ML/Signal Classification/3_Ap...  20180325_093833   \n",
       "96  /Users/changkong/ML/Signal Classification/3_Ap...  20180325_093840   \n",
       "97  /Users/changkong/ML/Signal Classification/3_Ap...  20180325_093901   \n",
       "98  /Users/changkong/ML/Signal Classification/3_Ap...  20180325_093909   \n",
       "99  /Users/changkong/ML/Signal Classification/3_Ap...  20180325_093918   \n",
       "\n",
       "    expect_result_x  expect_result_y  \n",
       "0                 1                0  \n",
       "1                 0                3  \n",
       "2                 0                1  \n",
       "3                 0                0  \n",
       "4                 0                1  \n",
       "5                 0                0  \n",
       "6                 0                1  \n",
       "7                 0                0  \n",
       "8                 0                1  \n",
       "9                 0                1  \n",
       "10                0                0  \n",
       "11                0                0  \n",
       "12                0                0  \n",
       "13                0                0  \n",
       "14                1                0  \n",
       "15                0                1  \n",
       "16                0                0  \n",
       "17                1                2  \n",
       "18                0                1  \n",
       "19                1                0  \n",
       "20                0                0  \n",
       "21                0                1  \n",
       "22                0                1  \n",
       "23                0                0  \n",
       "24                0                0  \n",
       "25                0                0  \n",
       "26                0                2  \n",
       "27                0                0  \n",
       "28                0                0  \n",
       "29                0                1  \n",
       "..              ...              ...  \n",
       "70                0                0  \n",
       "71                0                0  \n",
       "72                1                3  \n",
       "73                0                0  \n",
       "74                0                1  \n",
       "75                0                0  \n",
       "76                0                0  \n",
       "77                0                1  \n",
       "78                0                1  \n",
       "79                0                0  \n",
       "80                1                2  \n",
       "81                1                2  \n",
       "82                0                0  \n",
       "83                1                2  \n",
       "84                0                1  \n",
       "85                0                0  \n",
       "86                0                0  \n",
       "87                0                0  \n",
       "88                1                0  \n",
       "89                0                0  \n",
       "90                1                1  \n",
       "91                0                1  \n",
       "92                0                1  \n",
       "93                0                0  \n",
       "94                0                1  \n",
       "95                1                3  \n",
       "96                0                1  \n",
       "97                0                0  \n",
       "98                0                0  \n",
       "99                0                0  \n",
       "\n",
       "[100 rows x 4 columns]"
      ]
     },
     "execution_count": 7,
     "metadata": {},
     "output_type": "execute_result"
    }
   ],
   "source": [
    "test_labels.head(100)"
   ]
  },
  {
   "cell_type": "code",
   "execution_count": 8,
   "metadata": {
    "collapsed": false
   },
   "outputs": [
    {
     "data": {
      "text/plain": [
       "0    3546\n",
       "1    2027\n",
       "2    1825\n",
       "3     147\n",
       "Name: expect_result_y, dtype: int64"
      ]
     },
     "execution_count": 8,
     "metadata": {},
     "output_type": "execute_result"
    }
   ],
   "source": [
    "test_labels['expect_result_y'].value_counts()"
   ]
  },
  {
   "cell_type": "code",
   "execution_count": 10,
   "metadata": {
    "collapsed": false
   },
   "outputs": [
    {
     "ename": "ValueError",
     "evalue": "cannot reshape array of size 2 into shape (3,)",
     "output_type": "error",
     "traceback": [
      "\u001b[0;31m\u001b[0m",
      "\u001b[0;31mValueError\u001b[0mTraceback (most recent call last)",
      "\u001b[0;32m<ipython-input-10-2d73c6e98818>\u001b[0m in \u001b[0;36m<module>\u001b[0;34m()\u001b[0m\n\u001b[1;32m      2\u001b[0m \u001b[0mpathes\u001b[0m \u001b[0;34m=\u001b[0m \u001b[0mtest_labels\u001b[0m\u001b[0;34m[\u001b[0m\u001b[0;34m'case_path'\u001b[0m\u001b[0;34m]\u001b[0m\u001b[0;34m\u001b[0m\u001b[0m\n\u001b[1;32m      3\u001b[0m \u001b[0;32mfor\u001b[0m \u001b[0mtest_case\u001b[0m \u001b[0;32min\u001b[0m \u001b[0mpathes\u001b[0m\u001b[0;34m:\u001b[0m\u001b[0;34m\u001b[0m\u001b[0m\n\u001b[0;32m----> 4\u001b[0;31m     \u001b[0mpredict_ret\u001b[0m \u001b[0;34m=\u001b[0m \u001b[0msigMgr\u001b[0m\u001b[0;34m.\u001b[0m\u001b[0mprocess\u001b[0m\u001b[0;34m(\u001b[0m\u001b[0mtest_case\u001b[0m\u001b[0;34m,\u001b[0m \u001b[0mrequest_param\u001b[0m\u001b[0;34m=\u001b[0m\u001b[0;34m{\u001b[0m\u001b[0;34m'skip_row'\u001b[0m\u001b[0;34m:\u001b[0m\u001b[0;34m[\u001b[0m\u001b[0;36m1\u001b[0m\u001b[0;34m]\u001b[0m\u001b[0;34m}\u001b[0m\u001b[0;34m)\u001b[0m\u001b[0;34m\u001b[0m\u001b[0m\n\u001b[0m\u001b[1;32m      5\u001b[0m     \u001b[0mpredict_result\u001b[0m\u001b[0;34m.\u001b[0m\u001b[0mappend\u001b[0m\u001b[0;34m(\u001b[0m\u001b[0mpredict_ret\u001b[0m\u001b[0;34m[\u001b[0m\u001b[0;34m'stat'\u001b[0m\u001b[0;34m]\u001b[0m\u001b[0;34m)\u001b[0m\u001b[0;34m\u001b[0m\u001b[0m\n",
      "\u001b[0;32m/Users/changkong/ML/Signal Classification/project/script/signal_manager.pyc\u001b[0m in \u001b[0;36mprocess\u001b[0;34m(self, file_path, request_param)\u001b[0m\n\u001b[1;32m     66\u001b[0m            \u001b[0mclassifier\u001b[0m \u001b[0;34m=\u001b[0m \u001b[0mClassifier\u001b[0m\u001b[0;34m(\u001b[0m\u001b[0mmodel_path\u001b[0m \u001b[0;34m=\u001b[0m \u001b[0mrequest_param\u001b[0m\u001b[0;34m[\u001b[0m\u001b[0;34m'model_path'\u001b[0m\u001b[0;34m]\u001b[0m\u001b[0;34m)\u001b[0m\u001b[0;34m\u001b[0m\u001b[0m\n\u001b[1;32m     67\u001b[0m        \u001b[0;32melse\u001b[0m\u001b[0;34m:\u001b[0m\u001b[0;34m\u001b[0m\u001b[0m\n\u001b[0;32m---> 68\u001b[0;31m            \u001b[0mclassifier\u001b[0m \u001b[0;34m=\u001b[0m \u001b[0mClassifier\u001b[0m\u001b[0;34m(\u001b[0m\u001b[0;34m)\u001b[0m\u001b[0;34m\u001b[0m\u001b[0m\n\u001b[0m\u001b[1;32m     69\u001b[0m \u001b[0;34m\u001b[0m\u001b[0m\n\u001b[1;32m     70\u001b[0m        \u001b[0;32mreturn\u001b[0m \u001b[0mclassifier\u001b[0m\u001b[0;34m.\u001b[0m\u001b[0mpredict\u001b[0m\u001b[0;34m(\u001b[0m\u001b[0mnormalized_signals\u001b[0m\u001b[0;34m,\u001b[0m \u001b[0mSignalMgr\u001b[0m\u001b[0;34m.\u001b[0m\u001b[0msignalParams\u001b[0m\u001b[0;34m,\u001b[0m \u001b[0mrequest_param\u001b[0m\u001b[0;34m)\u001b[0m\u001b[0;34m\u001b[0m\u001b[0m\n",
      "\u001b[0;32m/Users/changkong/ML/Signal Classification/project/script/classifier.pyc\u001b[0m in \u001b[0;36m__init__\u001b[0;34m(self, model_path)\u001b[0m\n\u001b[1;32m     32\u001b[0m             \u001b[0mself\u001b[0m\u001b[0;34m.\u001b[0m\u001b[0mmodel\u001b[0m \u001b[0;34m=\u001b[0m \u001b[0mjoblib\u001b[0m\u001b[0;34m.\u001b[0m\u001b[0mload\u001b[0m\u001b[0;34m(\u001b[0m\u001b[0mmodel_path\u001b[0m\u001b[0;34m)\u001b[0m\u001b[0;34m\u001b[0m\u001b[0m\n\u001b[1;32m     33\u001b[0m         \u001b[0;32melse\u001b[0m\u001b[0;34m:\u001b[0m\u001b[0;34m\u001b[0m\u001b[0m\n\u001b[0;32m---> 34\u001b[0;31m             \u001b[0mself\u001b[0m\u001b[0;34m.\u001b[0m\u001b[0mmodel\u001b[0m \u001b[0;34m=\u001b[0m \u001b[0mjoblib\u001b[0m\u001b[0;34m.\u001b[0m\u001b[0mload\u001b[0m\u001b[0;34m(\u001b[0m\u001b[0mos\u001b[0m\u001b[0;34m.\u001b[0m\u001b[0mpath\u001b[0m\u001b[0;34m.\u001b[0m\u001b[0mabspath\u001b[0m\u001b[0;34m(\u001b[0m\u001b[0;34m'..'\u001b[0m\u001b[0;34m)\u001b[0m \u001b[0;34m+\u001b[0m \u001b[0mos\u001b[0m\u001b[0;34m.\u001b[0m\u001b[0msep\u001b[0m \u001b[0;34m+\u001b[0m \u001b[0;34m\"model\"\u001b[0m \u001b[0;34m+\u001b[0m \u001b[0mos\u001b[0m\u001b[0;34m.\u001b[0m\u001b[0msep\u001b[0m \u001b[0;34m+\u001b[0m \u001b[0;34m\"ada.pkl\"\u001b[0m\u001b[0;34m)\u001b[0m\u001b[0;34m\u001b[0m\u001b[0m\n\u001b[0m\u001b[1;32m     35\u001b[0m \u001b[0;34m\u001b[0m\u001b[0m\n\u001b[1;32m     36\u001b[0m     \u001b[0;32mdef\u001b[0m \u001b[0mpredict\u001b[0m\u001b[0;34m(\u001b[0m\u001b[0mself\u001b[0m\u001b[0;34m,\u001b[0m \u001b[0msignals\u001b[0m\u001b[0;34m,\u001b[0m \u001b[0mparams\u001b[0m\u001b[0;34m,\u001b[0m \u001b[0mrequest_params\u001b[0m \u001b[0;34m=\u001b[0m \u001b[0mdict\u001b[0m\u001b[0;34m(\u001b[0m\u001b[0;34m)\u001b[0m\u001b[0;34m)\u001b[0m\u001b[0;34m:\u001b[0m\u001b[0;34m\u001b[0m\u001b[0m\n",
      "\u001b[0;32m/Users/changkong/tools/anaconda/lib/python2.7/site-packages/sklearn/externals/joblib/numpy_pickle.pyc\u001b[0m in \u001b[0;36mload\u001b[0;34m(filename, mmap_mode)\u001b[0m\n\u001b[1;32m    576\u001b[0m                     \u001b[0;32mreturn\u001b[0m \u001b[0mload_compatibility\u001b[0m\u001b[0;34m(\u001b[0m\u001b[0mfobj\u001b[0m\u001b[0;34m)\u001b[0m\u001b[0;34m\u001b[0m\u001b[0m\n\u001b[1;32m    577\u001b[0m \u001b[0;34m\u001b[0m\u001b[0m\n\u001b[0;32m--> 578\u001b[0;31m                 \u001b[0mobj\u001b[0m \u001b[0;34m=\u001b[0m \u001b[0m_unpickle\u001b[0m\u001b[0;34m(\u001b[0m\u001b[0mfobj\u001b[0m\u001b[0;34m,\u001b[0m \u001b[0mfilename\u001b[0m\u001b[0;34m,\u001b[0m \u001b[0mmmap_mode\u001b[0m\u001b[0;34m)\u001b[0m\u001b[0;34m\u001b[0m\u001b[0m\n\u001b[0m\u001b[1;32m    579\u001b[0m \u001b[0;34m\u001b[0m\u001b[0m\n\u001b[1;32m    580\u001b[0m     \u001b[0;32mreturn\u001b[0m \u001b[0mobj\u001b[0m\u001b[0;34m\u001b[0m\u001b[0m\n",
      "\u001b[0;32m/Users/changkong/tools/anaconda/lib/python2.7/site-packages/sklearn/externals/joblib/numpy_pickle.pyc\u001b[0m in \u001b[0;36m_unpickle\u001b[0;34m(fobj, filename, mmap_mode)\u001b[0m\n\u001b[1;32m    506\u001b[0m     \u001b[0mobj\u001b[0m \u001b[0;34m=\u001b[0m \u001b[0mNone\u001b[0m\u001b[0;34m\u001b[0m\u001b[0m\n\u001b[1;32m    507\u001b[0m     \u001b[0;32mtry\u001b[0m\u001b[0;34m:\u001b[0m\u001b[0;34m\u001b[0m\u001b[0m\n\u001b[0;32m--> 508\u001b[0;31m         \u001b[0mobj\u001b[0m \u001b[0;34m=\u001b[0m \u001b[0munpickler\u001b[0m\u001b[0;34m.\u001b[0m\u001b[0mload\u001b[0m\u001b[0;34m(\u001b[0m\u001b[0;34m)\u001b[0m\u001b[0;34m\u001b[0m\u001b[0m\n\u001b[0m\u001b[1;32m    509\u001b[0m         \u001b[0;32mif\u001b[0m \u001b[0munpickler\u001b[0m\u001b[0;34m.\u001b[0m\u001b[0mcompat_mode\u001b[0m\u001b[0;34m:\u001b[0m\u001b[0;34m\u001b[0m\u001b[0m\n\u001b[1;32m    510\u001b[0m             warnings.warn(\"The file '%s' has been generated with a \"\n",
      "\u001b[0;32m/Users/changkong/tools/anaconda/lib/python2.7/pickle.pyc\u001b[0m in \u001b[0;36mload\u001b[0;34m(self)\u001b[0m\n\u001b[1;32m    862\u001b[0m             \u001b[0;32mwhile\u001b[0m \u001b[0;36m1\u001b[0m\u001b[0;34m:\u001b[0m\u001b[0;34m\u001b[0m\u001b[0m\n\u001b[1;32m    863\u001b[0m                 \u001b[0mkey\u001b[0m \u001b[0;34m=\u001b[0m \u001b[0mread\u001b[0m\u001b[0;34m(\u001b[0m\u001b[0;36m1\u001b[0m\u001b[0;34m)\u001b[0m\u001b[0;34m\u001b[0m\u001b[0m\n\u001b[0;32m--> 864\u001b[0;31m                 \u001b[0mdispatch\u001b[0m\u001b[0;34m[\u001b[0m\u001b[0mkey\u001b[0m\u001b[0;34m]\u001b[0m\u001b[0;34m(\u001b[0m\u001b[0mself\u001b[0m\u001b[0;34m)\u001b[0m\u001b[0;34m\u001b[0m\u001b[0m\n\u001b[0m\u001b[1;32m    865\u001b[0m         \u001b[0;32mexcept\u001b[0m \u001b[0m_Stop\u001b[0m\u001b[0;34m,\u001b[0m \u001b[0mstopinst\u001b[0m\u001b[0;34m:\u001b[0m\u001b[0;34m\u001b[0m\u001b[0m\n\u001b[1;32m    866\u001b[0m             \u001b[0;32mreturn\u001b[0m \u001b[0mstopinst\u001b[0m\u001b[0;34m.\u001b[0m\u001b[0mvalue\u001b[0m\u001b[0;34m\u001b[0m\u001b[0m\n",
      "\u001b[0;32m/Users/changkong/tools/anaconda/lib/python2.7/site-packages/sklearn/externals/joblib/numpy_pickle.pyc\u001b[0m in \u001b[0;36mload_build\u001b[0;34m(self)\u001b[0m\n\u001b[1;32m    339\u001b[0m             \u001b[0;32mif\u001b[0m \u001b[0misinstance\u001b[0m\u001b[0;34m(\u001b[0m\u001b[0marray_wrapper\u001b[0m\u001b[0;34m,\u001b[0m \u001b[0mNDArrayWrapper\u001b[0m\u001b[0;34m)\u001b[0m\u001b[0;34m:\u001b[0m\u001b[0;34m\u001b[0m\u001b[0m\n\u001b[1;32m    340\u001b[0m                 \u001b[0mself\u001b[0m\u001b[0;34m.\u001b[0m\u001b[0mcompat_mode\u001b[0m \u001b[0;34m=\u001b[0m \u001b[0mTrue\u001b[0m\u001b[0;34m\u001b[0m\u001b[0m\n\u001b[0;32m--> 341\u001b[0;31m             \u001b[0mself\u001b[0m\u001b[0;34m.\u001b[0m\u001b[0mstack\u001b[0m\u001b[0;34m.\u001b[0m\u001b[0mappend\u001b[0m\u001b[0;34m(\u001b[0m\u001b[0marray_wrapper\u001b[0m\u001b[0;34m.\u001b[0m\u001b[0mread\u001b[0m\u001b[0;34m(\u001b[0m\u001b[0mself\u001b[0m\u001b[0;34m)\u001b[0m\u001b[0;34m)\u001b[0m\u001b[0;34m\u001b[0m\u001b[0m\n\u001b[0m\u001b[1;32m    342\u001b[0m \u001b[0;34m\u001b[0m\u001b[0m\n\u001b[1;32m    343\u001b[0m     \u001b[0;31m# Be careful to register our new method.\u001b[0m\u001b[0;34m\u001b[0m\u001b[0;34m\u001b[0m\u001b[0m\n",
      "\u001b[0;32m/Users/changkong/tools/anaconda/lib/python2.7/site-packages/sklearn/externals/joblib/numpy_pickle.pyc\u001b[0m in \u001b[0;36mread\u001b[0;34m(self, unpickler)\u001b[0m\n\u001b[1;32m    182\u001b[0m             \u001b[0marray\u001b[0m \u001b[0;34m=\u001b[0m \u001b[0mself\u001b[0m\u001b[0;34m.\u001b[0m\u001b[0mread_mmap\u001b[0m\u001b[0;34m(\u001b[0m\u001b[0munpickler\u001b[0m\u001b[0;34m)\u001b[0m\u001b[0;34m\u001b[0m\u001b[0m\n\u001b[1;32m    183\u001b[0m         \u001b[0;32melse\u001b[0m\u001b[0;34m:\u001b[0m\u001b[0;34m\u001b[0m\u001b[0m\n\u001b[0;32m--> 184\u001b[0;31m             \u001b[0marray\u001b[0m \u001b[0;34m=\u001b[0m \u001b[0mself\u001b[0m\u001b[0;34m.\u001b[0m\u001b[0mread_array\u001b[0m\u001b[0;34m(\u001b[0m\u001b[0munpickler\u001b[0m\u001b[0;34m)\u001b[0m\u001b[0;34m\u001b[0m\u001b[0m\n\u001b[0m\u001b[1;32m    185\u001b[0m \u001b[0;34m\u001b[0m\u001b[0m\n\u001b[1;32m    186\u001b[0m         \u001b[0;31m# Manage array subclass case\u001b[0m\u001b[0;34m\u001b[0m\u001b[0;34m\u001b[0m\u001b[0m\n",
      "\u001b[0;32m/Users/changkong/tools/anaconda/lib/python2.7/site-packages/sklearn/externals/joblib/numpy_pickle.pyc\u001b[0m in \u001b[0;36mread_array\u001b[0;34m(self, unpickler)\u001b[0m\n\u001b[1;32m    143\u001b[0m                 \u001b[0marray\u001b[0m \u001b[0;34m=\u001b[0m \u001b[0marray\u001b[0m\u001b[0;34m.\u001b[0m\u001b[0mtranspose\u001b[0m\u001b[0;34m(\u001b[0m\u001b[0;34m)\u001b[0m\u001b[0;34m\u001b[0m\u001b[0m\n\u001b[1;32m    144\u001b[0m             \u001b[0;32melse\u001b[0m\u001b[0;34m:\u001b[0m\u001b[0;34m\u001b[0m\u001b[0m\n\u001b[0;32m--> 145\u001b[0;31m                 \u001b[0marray\u001b[0m\u001b[0;34m.\u001b[0m\u001b[0mshape\u001b[0m \u001b[0;34m=\u001b[0m \u001b[0mself\u001b[0m\u001b[0;34m.\u001b[0m\u001b[0mshape\u001b[0m\u001b[0;34m\u001b[0m\u001b[0m\n\u001b[0m\u001b[1;32m    146\u001b[0m \u001b[0;34m\u001b[0m\u001b[0m\n\u001b[1;32m    147\u001b[0m         \u001b[0;32mreturn\u001b[0m \u001b[0marray\u001b[0m\u001b[0;34m\u001b[0m\u001b[0m\n",
      "\u001b[0;31mValueError\u001b[0m: cannot reshape array of size 2 into shape (3,)"
     ]
    }
   ],
   "source": [
    "predict_result = list()\n",
    "pathes = test_labels['case_path']\n",
    "for test_case in pathes:\n",
    "    predict_ret = sigMgr.process(test_case, request_param={'skip_row':[1]})\n",
    "    predict_result.append(predict_ret['stat'])"
   ]
  },
  {
   "cell_type": "code",
   "execution_count": 11,
   "metadata": {
    "collapsed": false
   },
   "outputs": [
    {
     "data": {
      "text/plain": [
       "{'reason': 5, 'speed': 6958.007812499999, 'stat': 1}"
      ]
     },
     "execution_count": 11,
     "metadata": {},
     "output_type": "execute_result"
    }
   ],
   "source": [
    "%reload_ext autoreload\n",
    "sigMgr.process('/Users/changkong/ML/Signal Classification/3_Application/Data/20180325_090637/Channel_1.csv', request_param={'skip_row':[1]})"
   ]
  },
  {
   "cell_type": "code",
   "execution_count": 12,
   "metadata": {
    "collapsed": false
   },
   "outputs": [
    {
     "ename": "ValueError",
     "evalue": "Length of values does not match length of index",
     "output_type": "error",
     "traceback": [
      "\u001b[0;31m\u001b[0m",
      "\u001b[0;31mValueError\u001b[0mTraceback (most recent call last)",
      "\u001b[0;32m<ipython-input-12-97b41236b606>\u001b[0m in \u001b[0;36m<module>\u001b[0;34m()\u001b[0m\n\u001b[0;32m----> 1\u001b[0;31m \u001b[0mtest_labels\u001b[0m\u001b[0;34m[\u001b[0m\u001b[0;34m'predict_result'\u001b[0m\u001b[0;34m]\u001b[0m \u001b[0;34m=\u001b[0m \u001b[0mpredict_result\u001b[0m\u001b[0;34m\u001b[0m\u001b[0m\n\u001b[0m",
      "\u001b[0;32m/Users/changkong/tools/anaconda/lib/python2.7/site-packages/pandas/core/frame.pyc\u001b[0m in \u001b[0;36m__setitem__\u001b[0;34m(self, key, value)\u001b[0m\n\u001b[1;32m   2329\u001b[0m         \u001b[0;32melse\u001b[0m\u001b[0;34m:\u001b[0m\u001b[0;34m\u001b[0m\u001b[0m\n\u001b[1;32m   2330\u001b[0m             \u001b[0;31m# set column\u001b[0m\u001b[0;34m\u001b[0m\u001b[0;34m\u001b[0m\u001b[0m\n\u001b[0;32m-> 2331\u001b[0;31m             \u001b[0mself\u001b[0m\u001b[0;34m.\u001b[0m\u001b[0m_set_item\u001b[0m\u001b[0;34m(\u001b[0m\u001b[0mkey\u001b[0m\u001b[0;34m,\u001b[0m \u001b[0mvalue\u001b[0m\u001b[0;34m)\u001b[0m\u001b[0;34m\u001b[0m\u001b[0m\n\u001b[0m\u001b[1;32m   2332\u001b[0m \u001b[0;34m\u001b[0m\u001b[0m\n\u001b[1;32m   2333\u001b[0m     \u001b[0;32mdef\u001b[0m \u001b[0m_setitem_slice\u001b[0m\u001b[0;34m(\u001b[0m\u001b[0mself\u001b[0m\u001b[0;34m,\u001b[0m \u001b[0mkey\u001b[0m\u001b[0;34m,\u001b[0m \u001b[0mvalue\u001b[0m\u001b[0;34m)\u001b[0m\u001b[0;34m:\u001b[0m\u001b[0;34m\u001b[0m\u001b[0m\n",
      "\u001b[0;32m/Users/changkong/tools/anaconda/lib/python2.7/site-packages/pandas/core/frame.pyc\u001b[0m in \u001b[0;36m_set_item\u001b[0;34m(self, key, value)\u001b[0m\n\u001b[1;32m   2395\u001b[0m \u001b[0;34m\u001b[0m\u001b[0m\n\u001b[1;32m   2396\u001b[0m         \u001b[0mself\u001b[0m\u001b[0;34m.\u001b[0m\u001b[0m_ensure_valid_index\u001b[0m\u001b[0;34m(\u001b[0m\u001b[0mvalue\u001b[0m\u001b[0;34m)\u001b[0m\u001b[0;34m\u001b[0m\u001b[0m\n\u001b[0;32m-> 2397\u001b[0;31m         \u001b[0mvalue\u001b[0m \u001b[0;34m=\u001b[0m \u001b[0mself\u001b[0m\u001b[0;34m.\u001b[0m\u001b[0m_sanitize_column\u001b[0m\u001b[0;34m(\u001b[0m\u001b[0mkey\u001b[0m\u001b[0;34m,\u001b[0m \u001b[0mvalue\u001b[0m\u001b[0;34m)\u001b[0m\u001b[0;34m\u001b[0m\u001b[0m\n\u001b[0m\u001b[1;32m   2398\u001b[0m         \u001b[0mNDFrame\u001b[0m\u001b[0;34m.\u001b[0m\u001b[0m_set_item\u001b[0m\u001b[0;34m(\u001b[0m\u001b[0mself\u001b[0m\u001b[0;34m,\u001b[0m \u001b[0mkey\u001b[0m\u001b[0;34m,\u001b[0m \u001b[0mvalue\u001b[0m\u001b[0;34m)\u001b[0m\u001b[0;34m\u001b[0m\u001b[0m\n\u001b[1;32m   2399\u001b[0m \u001b[0;34m\u001b[0m\u001b[0m\n",
      "\u001b[0;32m/Users/changkong/tools/anaconda/lib/python2.7/site-packages/pandas/core/frame.pyc\u001b[0m in \u001b[0;36m_sanitize_column\u001b[0;34m(self, key, value, broadcast)\u001b[0m\n\u001b[1;32m   2566\u001b[0m \u001b[0;34m\u001b[0m\u001b[0m\n\u001b[1;32m   2567\u001b[0m             \u001b[0;31m# turn me into an ndarray\u001b[0m\u001b[0;34m\u001b[0m\u001b[0;34m\u001b[0m\u001b[0m\n\u001b[0;32m-> 2568\u001b[0;31m             \u001b[0mvalue\u001b[0m \u001b[0;34m=\u001b[0m \u001b[0m_sanitize_index\u001b[0m\u001b[0;34m(\u001b[0m\u001b[0mvalue\u001b[0m\u001b[0;34m,\u001b[0m \u001b[0mself\u001b[0m\u001b[0;34m.\u001b[0m\u001b[0mindex\u001b[0m\u001b[0;34m,\u001b[0m \u001b[0mcopy\u001b[0m\u001b[0;34m=\u001b[0m\u001b[0mFalse\u001b[0m\u001b[0;34m)\u001b[0m\u001b[0;34m\u001b[0m\u001b[0m\n\u001b[0m\u001b[1;32m   2569\u001b[0m             \u001b[0;32mif\u001b[0m \u001b[0;32mnot\u001b[0m \u001b[0misinstance\u001b[0m\u001b[0;34m(\u001b[0m\u001b[0mvalue\u001b[0m\u001b[0;34m,\u001b[0m \u001b[0;34m(\u001b[0m\u001b[0mnp\u001b[0m\u001b[0;34m.\u001b[0m\u001b[0mndarray\u001b[0m\u001b[0;34m,\u001b[0m \u001b[0mIndex\u001b[0m\u001b[0;34m)\u001b[0m\u001b[0;34m)\u001b[0m\u001b[0;34m:\u001b[0m\u001b[0;34m\u001b[0m\u001b[0m\n\u001b[1;32m   2570\u001b[0m                 \u001b[0;32mif\u001b[0m \u001b[0misinstance\u001b[0m\u001b[0;34m(\u001b[0m\u001b[0mvalue\u001b[0m\u001b[0;34m,\u001b[0m \u001b[0mlist\u001b[0m\u001b[0;34m)\u001b[0m \u001b[0;32mand\u001b[0m \u001b[0mlen\u001b[0m\u001b[0;34m(\u001b[0m\u001b[0mvalue\u001b[0m\u001b[0;34m)\u001b[0m \u001b[0;34m>\u001b[0m \u001b[0;36m0\u001b[0m\u001b[0;34m:\u001b[0m\u001b[0;34m\u001b[0m\u001b[0m\n",
      "\u001b[0;32m/Users/changkong/tools/anaconda/lib/python2.7/site-packages/pandas/core/series.pyc\u001b[0m in \u001b[0;36m_sanitize_index\u001b[0;34m(data, index, copy)\u001b[0m\n\u001b[1;32m   2877\u001b[0m \u001b[0;34m\u001b[0m\u001b[0m\n\u001b[1;32m   2878\u001b[0m     \u001b[0;32mif\u001b[0m \u001b[0mlen\u001b[0m\u001b[0;34m(\u001b[0m\u001b[0mdata\u001b[0m\u001b[0;34m)\u001b[0m \u001b[0;34m!=\u001b[0m \u001b[0mlen\u001b[0m\u001b[0;34m(\u001b[0m\u001b[0mindex\u001b[0m\u001b[0;34m)\u001b[0m\u001b[0;34m:\u001b[0m\u001b[0;34m\u001b[0m\u001b[0m\n\u001b[0;32m-> 2879\u001b[0;31m         \u001b[0;32mraise\u001b[0m \u001b[0mValueError\u001b[0m\u001b[0;34m(\u001b[0m\u001b[0;34m'Length of values does not match length of '\u001b[0m \u001b[0;34m'index'\u001b[0m\u001b[0;34m)\u001b[0m\u001b[0;34m\u001b[0m\u001b[0m\n\u001b[0m\u001b[1;32m   2880\u001b[0m \u001b[0;34m\u001b[0m\u001b[0m\n\u001b[1;32m   2881\u001b[0m     \u001b[0;32mif\u001b[0m \u001b[0misinstance\u001b[0m\u001b[0;34m(\u001b[0m\u001b[0mdata\u001b[0m\u001b[0;34m,\u001b[0m \u001b[0mPeriodIndex\u001b[0m\u001b[0;34m)\u001b[0m\u001b[0;34m:\u001b[0m\u001b[0;34m\u001b[0m\u001b[0m\n",
      "\u001b[0;31mValueError\u001b[0m: Length of values does not match length of index"
     ]
    }
   ],
   "source": [
    "test_labels['predict_result'] = predict_result"
   ]
  },
  {
   "cell_type": "code",
   "execution_count": null,
   "metadata": {
    "collapsed": false
   },
   "outputs": [],
   "source": [
    "test_labels[test_labels.predict_result == 0].count()"
   ]
  },
  {
   "cell_type": "code",
   "execution_count": null,
   "metadata": {
    "collapsed": false
   },
   "outputs": [],
   "source": [
    "test_labels.head()"
   ]
  },
  {
   "cell_type": "code",
   "execution_count": null,
   "metadata": {
    "collapsed": false
   },
   "outputs": [],
   "source": [
    "invalid_result = test_labels[(test_labels.expect_result_y > 1) & (test_labels.predict_result == 0)].reset_index(drop=True)"
   ]
  },
  {
   "cell_type": "code",
   "execution_count": null,
   "metadata": {
    "collapsed": false
   },
   "outputs": [],
   "source": [
    "valid_result = test_labels[(test_labels.expect_result_y == 0) & (test_labels.predict_result == 0)].reset_index(drop=True)\n",
    "print valid_result.count()"
   ]
  },
  {
   "cell_type": "code",
   "execution_count": null,
   "metadata": {
    "collapsed": false
   },
   "outputs": [],
   "source": [
    "valid_result = test_labels[(test_labels.expect_result_y == 1) & (test_labels.predict_result == 0)].reset_index(drop=True)\n",
    "print valid_result.count()"
   ]
  },
  {
   "cell_type": "code",
   "execution_count": null,
   "metadata": {
    "collapsed": false
   },
   "outputs": [],
   "source": [
    "# invalid_result.head()\n",
    "# invalid_result['case_name']\n",
    "invalid_result.count()"
   ]
  },
  {
   "cell_type": "code",
   "execution_count": 13,
   "metadata": {
    "collapsed": false
   },
   "outputs": [],
   "source": [
    "ret = sigMgr.process('/Users/changkong/ML/Signal Classification/3_Application/Data/20180325_100453/Channel_1.csv', request_param={'skip_row':[1], 'debug':False})\n",
    "# print ret\n",
    "# debug_info = ret['debug']\n"
   ]
  },
  {
   "cell_type": "code",
   "execution_count": 14,
   "metadata": {
    "collapsed": true
   },
   "outputs": [],
   "source": [
    "\n",
    "ret = sigMgr.process('/Users/changkong/Desktop/20180404_134025/Channel_1.csv', request_param={'skip_row':[1], 'debug':True})\n",
    "# print ret\n",
    "# debug_info = ret['debug']\n"
   ]
  },
  {
   "cell_type": "code",
   "execution_count": 15,
   "metadata": {
    "collapsed": false
   },
   "outputs": [
    {
     "name": "stdout",
     "output_type": "stream",
     "text": [
      "{'stat': 0, 'speed': 13183.593749999998, 'reason': -1}\n"
     ]
    }
   ],
   "source": [
    "# np.std(debug_info['height_delta'])\n",
    "print ret"
   ]
  },
  {
   "cell_type": "code",
   "execution_count": 16,
   "metadata": {
    "collapsed": false
   },
   "outputs": [
    {
     "ename": "NameError",
     "evalue": "name 'debug_info' is not defined",
     "output_type": "error",
     "traceback": [
      "\u001b[0;31m\u001b[0m",
      "\u001b[0;31mNameError\u001b[0mTraceback (most recent call last)",
      "\u001b[0;32m<ipython-input-16-160ee184299d>\u001b[0m in \u001b[0;36m<module>\u001b[0;34m()\u001b[0m\n\u001b[0;32m----> 1\u001b[0;31m \u001b[0mplt\u001b[0m\u001b[0;34m.\u001b[0m\u001b[0mplot\u001b[0m\u001b[0;34m(\u001b[0m\u001b[0mdebug_info\u001b[0m\u001b[0;34m[\u001b[0m\u001b[0;34m'normalized_signal'\u001b[0m\u001b[0;34m]\u001b[0m\u001b[0;34m[\u001b[0m\u001b[0;36m0\u001b[0m\u001b[0;34m:\u001b[0m\u001b[0;36m1000\u001b[0m\u001b[0;34m]\u001b[0m\u001b[0;34m)\u001b[0m\u001b[0;34m\u001b[0m\u001b[0m\n\u001b[0m\u001b[1;32m      2\u001b[0m \u001b[0;32mprint\u001b[0m \u001b[0mdebug_info\u001b[0m\u001b[0;34m[\u001b[0m\u001b[0;34m'down_peaks'\u001b[0m\u001b[0;34m]\u001b[0m\u001b[0;34m\u001b[0m\u001b[0m\n\u001b[1;32m      3\u001b[0m \u001b[0;32mprint\u001b[0m \u001b[0;34m\"peaks:%d ups:%d downs:%d down_peaks:%d\"\u001b[0m \u001b[0;34m%\u001b[0m \u001b[0;34m(\u001b[0m\u001b[0mlen\u001b[0m\u001b[0;34m(\u001b[0m\u001b[0mdebug_info\u001b[0m\u001b[0;34m[\u001b[0m\u001b[0;34m'peaks'\u001b[0m\u001b[0;34m]\u001b[0m\u001b[0;34m)\u001b[0m\u001b[0;34m,\u001b[0m \u001b[0mlen\u001b[0m\u001b[0;34m(\u001b[0m\u001b[0mdebug_info\u001b[0m\u001b[0;34m[\u001b[0m\u001b[0;34m'up_edges'\u001b[0m\u001b[0;34m]\u001b[0m\u001b[0;34m)\u001b[0m\u001b[0;34m,\u001b[0m \u001b[0mlen\u001b[0m\u001b[0;34m(\u001b[0m\u001b[0mdebug_info\u001b[0m\u001b[0;34m[\u001b[0m\u001b[0;34m'down_edges'\u001b[0m\u001b[0;34m]\u001b[0m\u001b[0;34m)\u001b[0m\u001b[0;34m,\u001b[0m \u001b[0mlen\u001b[0m\u001b[0;34m(\u001b[0m\u001b[0mdebug_info\u001b[0m\u001b[0;34m[\u001b[0m\u001b[0;34m'down_peaks'\u001b[0m\u001b[0;34m]\u001b[0m\u001b[0;34m)\u001b[0m\u001b[0;34m)\u001b[0m\u001b[0;34m\u001b[0m\u001b[0m\n",
      "\u001b[0;31mNameError\u001b[0m: name 'debug_info' is not defined"
     ]
    }
   ],
   "source": [
    "plt.plot(debug_info['normalized_signal'][0:1000])\n",
    "print debug_info['down_peaks']\n",
    "print \"peaks:%d ups:%d downs:%d down_peaks:%d\" % (len(debug_info['peaks']), len(debug_info['up_edges']), len(debug_info['down_edges']), len(debug_info['down_peaks']))"
   ]
  },
  {
   "cell_type": "code",
   "execution_count": null,
   "metadata": {
    "collapsed": false
   },
   "outputs": [],
   "source": [
    "invalid_result.head()\n",
    "invalid_result.count()"
   ]
  },
  {
   "cell_type": "code",
   "execution_count": 21,
   "metadata": {
    "collapsed": false
   },
   "outputs": [
    {
     "name": "stdout",
     "output_type": "stream",
     "text": [
      "{'stat': 0, 'speed': 13183.593749999998, 'reason': -1}\n"
     ]
    },
    {
     "data": {
      "image/png": "[encoded data removed]",
      "text/plain": [
       "<matplotlib.figure.Figure at 0x10d26c210>"
      ]
     },
     "metadata": {},
     "output_type": "display_data"
    }
   ],
   "source": [
    "df_signals = pd.read_csv('/Users/changkong/ML/Signal Classification/testData/20180410现场测试/Data-0410-2/20180410_133005/Channel_1.csv', skiprows=1, header=None, names=['sig'])\n",
    "df_signals[0:1000].plot()\n",
    "# print invalid_result['case_path'][3]\n",
    "ret = sigMgr.process('/Users/changkong/Desktop/20180404_134025/Channel_1.csv', request_param={'skip_row':[1], 'debug':True})\n",
    "print ret"
   ]
  },
  {
   "cell_type": "code",
   "execution_count": null,
   "metadata": {
    "collapsed": false
   },
   "outputs": [],
   "source": [
    "from filter import Filter\n",
    "df_signals.head()\n",
    "# plt.plot(debug_info['normalized_signal'])\n",
    "# medFilterResult = Filter.medfilter(df_signals['sig'], 21)\n",
    "medFilterResult = Filter.medfilter(debug_info['normalized_signal'], 9)\n",
    "peak_candidates = (debug_info['normalized_signal'] - medFilterResult)\n",
    "plt.plot(medFilterResult)\n",
    "plt.plot(peak_candidates)\n",
    "print len(medFilterResult)"
   ]
  },
  {
   "cell_type": "code",
   "execution_count": null,
   "metadata": {
    "collapsed": false
   },
   "outputs": [],
   "source": [
    "plt.plot(medFilterResult[229:235])"
   ]
  },
  {
   "cell_type": "code",
   "execution_count": null,
   "metadata": {
    "collapsed": false
   },
   "outputs": [],
   "source": [
    "nms_result = Filter.nms(peak_candidates, 21, True)\n",
    "plt.plot(nms_result)\n",
    "plt.plot(peak_candidates)"
   ]
  },
  {
   "cell_type": "code",
   "execution_count": null,
   "metadata": {
    "collapsed": false
   },
   "outputs": [],
   "source": [
    "idx = np.arange(0, len(df_signals['sig']))\n",
    "masks = nms_result < -1.0\n",
    "peak_idx = idx[masks]\n",
    "num_of_peaks = masks.sum()"
   ]
  },
  {
   "cell_type": "code",
   "execution_count": null,
   "metadata": {
    "collapsed": false
   },
   "outputs": [],
   "source": [
    "# print num_of_peaks\n",
    "print masks"
   ]
  },
  {
   "cell_type": "code",
   "execution_count": null,
   "metadata": {
    "collapsed": false
   },
   "outputs": [],
   "source": [
    "print peak_idx\n",
    "print df_signals['sig'][0]"
   ]
  },
  {
   "cell_type": "code",
   "execution_count": null,
   "metadata": {
    "collapsed": false
   },
   "outputs": [],
   "source": [
    "classifier.signalDiagnosis(df_signals['sig'])"
   ]
  },
  {
   "cell_type": "code",
   "execution_count": null,
   "metadata": {
    "collapsed": false
   },
   "outputs": [],
   "source": [
    "38.0 / 4.0 / (1024 * 0.00002) * 60"
   ]
  },
  {
   "cell_type": "code",
   "execution_count": null,
   "metadata": {
    "collapsed": true
   },
   "outputs": [],
   "source": []
  }
 ],
 "metadata": {
  "kernelspec": {
   "display_name": "Python 2",
   "language": "python",
   "name": "python2"
  },
  "language_info": {
   "codemirror_mode": {
    "name": "ipython",
    "version": 2
   },
   "file_extension": ".py",
   "mimetype": "text/x-python",
   "name": "python",
   "nbconvert_exporter": "python",
   "pygments_lexer": "ipython2",
   "version": "2.7.13"
  }
 },
 "nbformat": 4,
 "nbformat_minor": 2
}
