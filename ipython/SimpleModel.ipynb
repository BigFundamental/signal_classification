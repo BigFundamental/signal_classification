{
 "cells": [
  {
   "cell_type": "code",
   "execution_count": 38,
   "metadata": {},
   "outputs": [
    {
     "name": "stdout",
     "output_type": "stream",
     "text": [
      "The autoreload extension is already loaded. To reload it, use:\n",
      "  %reload_ext autoreload\n"
     ]
    }
   ],
   "source": [
    "%load_ext autoreload\n",
    "%autoreload 2\n",
    "from feature_extractor import FeatureExtractor\n",
    "from classifier import Classifier\n",
    "from signal_manager import SignalMgr\n",
    "from filter import Filter\n",
    "import numpy as np\n",
    "import pandas as pd\n",
    "from matplotlib import pyplot as plt\n",
    "%matplotlib inline\n",
    "\n",
    "feaExtractor = FeatureExtractor()\n",
    "# classifier = Classifier()\n",
    "sigMgr = SignalMgr()\n",
    "\n",
    "# norm_signal = sigMgr.normalize_signals(signals)"
   ]
  },
  {
   "cell_type": "code",
   "execution_count": 39,
   "metadata": {
    "collapsed": true
   },
   "outputs": [],
   "source": [
    "def get_signal_list(root_path, file_name = 'Channel_1.csv'):\n",
    "    test_suites = os.listdir(root_path)\n",
    "    test_cases_path = []\n",
    "    expect_result = []\n",
    "    for test in test_suites:\n",
    "        dir_path = os.path.join(root_path, test)\n",
    "        if not os.path.isdir(dir_path):\n",
    "            continue\n",
    "        case_path = os.path.join(dir_path, file_name)\n",
    "        if not os.path.isfile(case_path):\n",
    "            continue\n",
    "        test_cases_path.append(case_path)\n",
    "        with open(case_path, 'r') as fhandler:\n",
    "            ret = fhandler.readline().strip().split(',')[0]\n",
    "            if int(ret) > 0:\n",
    "                ret = 1\n",
    "            else:\n",
    "                ret = 0\n",
    "            expect_result.append(ret)\n",
    "    return (test_cases_path, expect_result)"
   ]
  },
  {
   "cell_type": "code",
   "execution_count": 40,
   "metadata": {},
   "outputs": [],
   "source": [
    "import os, sys\n",
    "## start evaluation of data\n",
    "# TEST_LABEL = '/Users/changkong/ML/Signal Classification/testData/20180204/labels.csv'\n",
    "RESULT_FPATH = '/Users/changkong/ML/Signal Classification/3_Application/label.csv'\n",
    "# get all data from \n",
    "TEST_DATA_ROOT = \"/Users/changkong/ML/Signal Classification/3_Application/Data/\"\n",
    "\n",
    "pathes, ret = get_signal_list(TEST_DATA_ROOT)"
   ]
  },
  {
   "cell_type": "code",
   "execution_count": 41,
   "metadata": {},
   "outputs": [],
   "source": [
    "label_df = pd.read_csv(RESULT_FPATH, header=None, skiprows=1, names=['case_name', 'expect_result'], dtype={'expect_result':np.int32}).dropna()\n",
    "# get features\n",
    "label_df.loc[label_df.expect_result <= 1,'expect_result'] = 0\n",
    "label_df.loc[label_df.expect_result > 1, 'expect_result']= 1\n",
    "test_cases_df = pd.DataFrame(pathes, columns= ['case_path'])\n",
    "test_cases_df['case_name'] = test_cases_df['case_path'].apply(lambda x: x.split('/')[-2])\n",
    "test_cases_df['expect_result'] = ret\n",
    "test_labels = test_cases_df.merge(label_df, on='case_name')"
   ]
  },
  {
   "cell_type": "code",
   "execution_count": 42,
   "metadata": {},
   "outputs": [
    {
     "data": {
      "text/html": [
       "<div>\n",
       "<style scoped>\n",
       "    .dataframe tbody tr th:only-of-type {\n",
       "        vertical-align: middle;\n",
       "    }\n",
       "\n",
       "    .dataframe tbody tr th {\n",
       "        vertical-align: top;\n",
       "    }\n",
       "\n",
       "    .dataframe thead th {\n",
       "        text-align: right;\n",
       "    }\n",
       "</style>\n",
       "<table border=\"1\" class=\"dataframe\">\n",
       "  <thead>\n",
       "    <tr style=\"text-align: right;\">\n",
       "      <th></th>\n",
       "      <th>case_path</th>\n",
       "      <th>case_name</th>\n",
       "      <th>expect_result_x</th>\n",
       "      <th>expect_result_y</th>\n",
       "    </tr>\n",
       "  </thead>\n",
       "  <tbody>\n",
       "    <tr>\n",
       "      <th>0</th>\n",
       "      <td>/Users/changkong/ML/Signal Classification/3_Ap...</td>\n",
       "      <td>20180325_090536</td>\n",
       "      <td>1</td>\n",
       "      <td>0</td>\n",
       "    </tr>\n",
       "    <tr>\n",
       "      <th>1</th>\n",
       "      <td>/Users/changkong/ML/Signal Classification/3_Ap...</td>\n",
       "      <td>20180325_090637</td>\n",
       "      <td>0</td>\n",
       "      <td>1</td>\n",
       "    </tr>\n",
       "    <tr>\n",
       "      <th>2</th>\n",
       "      <td>/Users/changkong/ML/Signal Classification/3_Ap...</td>\n",
       "      <td>20180325_091016</td>\n",
       "      <td>0</td>\n",
       "      <td>0</td>\n",
       "    </tr>\n",
       "    <tr>\n",
       "      <th>3</th>\n",
       "      <td>/Users/changkong/ML/Signal Classification/3_Ap...</td>\n",
       "      <td>20180325_091047</td>\n",
       "      <td>0</td>\n",
       "      <td>0</td>\n",
       "    </tr>\n",
       "    <tr>\n",
       "      <th>4</th>\n",
       "      <td>/Users/changkong/ML/Signal Classification/3_Ap...</td>\n",
       "      <td>20180325_091103</td>\n",
       "      <td>0</td>\n",
       "      <td>0</td>\n",
       "    </tr>\n",
       "    <tr>\n",
       "      <th>5</th>\n",
       "      <td>/Users/changkong/ML/Signal Classification/3_Ap...</td>\n",
       "      <td>20180325_091138</td>\n",
       "      <td>0</td>\n",
       "      <td>0</td>\n",
       "    </tr>\n",
       "    <tr>\n",
       "      <th>6</th>\n",
       "      <td>/Users/changkong/ML/Signal Classification/3_Ap...</td>\n",
       "      <td>20180325_091155</td>\n",
       "      <td>0</td>\n",
       "      <td>0</td>\n",
       "    </tr>\n",
       "    <tr>\n",
       "      <th>7</th>\n",
       "      <td>/Users/changkong/ML/Signal Classification/3_Ap...</td>\n",
       "      <td>20180325_091224</td>\n",
       "      <td>0</td>\n",
       "      <td>0</td>\n",
       "    </tr>\n",
       "    <tr>\n",
       "      <th>8</th>\n",
       "      <td>/Users/changkong/ML/Signal Classification/3_Ap...</td>\n",
       "      <td>20180325_091237</td>\n",
       "      <td>0</td>\n",
       "      <td>0</td>\n",
       "    </tr>\n",
       "    <tr>\n",
       "      <th>9</th>\n",
       "      <td>/Users/changkong/ML/Signal Classification/3_Ap...</td>\n",
       "      <td>20180325_091316</td>\n",
       "      <td>0</td>\n",
       "      <td>0</td>\n",
       "    </tr>\n",
       "    <tr>\n",
       "      <th>10</th>\n",
       "      <td>/Users/changkong/ML/Signal Classification/3_Ap...</td>\n",
       "      <td>20180325_091349</td>\n",
       "      <td>0</td>\n",
       "      <td>0</td>\n",
       "    </tr>\n",
       "    <tr>\n",
       "      <th>11</th>\n",
       "      <td>/Users/changkong/ML/Signal Classification/3_Ap...</td>\n",
       "      <td>20180325_091403</td>\n",
       "      <td>0</td>\n",
       "      <td>0</td>\n",
       "    </tr>\n",
       "    <tr>\n",
       "      <th>12</th>\n",
       "      <td>/Users/changkong/ML/Signal Classification/3_Ap...</td>\n",
       "      <td>20180325_091414</td>\n",
       "      <td>0</td>\n",
       "      <td>0</td>\n",
       "    </tr>\n",
       "    <tr>\n",
       "      <th>13</th>\n",
       "      <td>/Users/changkong/ML/Signal Classification/3_Ap...</td>\n",
       "      <td>20180325_091432</td>\n",
       "      <td>0</td>\n",
       "      <td>0</td>\n",
       "    </tr>\n",
       "    <tr>\n",
       "      <th>14</th>\n",
       "      <td>/Users/changkong/ML/Signal Classification/3_Ap...</td>\n",
       "      <td>20180325_091520</td>\n",
       "      <td>1</td>\n",
       "      <td>0</td>\n",
       "    </tr>\n",
       "    <tr>\n",
       "      <th>15</th>\n",
       "      <td>/Users/changkong/ML/Signal Classification/3_Ap...</td>\n",
       "      <td>20180325_091533</td>\n",
       "      <td>0</td>\n",
       "      <td>0</td>\n",
       "    </tr>\n",
       "    <tr>\n",
       "      <th>16</th>\n",
       "      <td>/Users/changkong/ML/Signal Classification/3_Ap...</td>\n",
       "      <td>20180325_091554</td>\n",
       "      <td>0</td>\n",
       "      <td>0</td>\n",
       "    </tr>\n",
       "    <tr>\n",
       "      <th>17</th>\n",
       "      <td>/Users/changkong/ML/Signal Classification/3_Ap...</td>\n",
       "      <td>20180325_091605</td>\n",
       "      <td>1</td>\n",
       "      <td>1</td>\n",
       "    </tr>\n",
       "    <tr>\n",
       "      <th>18</th>\n",
       "      <td>/Users/changkong/ML/Signal Classification/3_Ap...</td>\n",
       "      <td>20180325_091639</td>\n",
       "      <td>0</td>\n",
       "      <td>0</td>\n",
       "    </tr>\n",
       "    <tr>\n",
       "      <th>19</th>\n",
       "      <td>/Users/changkong/ML/Signal Classification/3_Ap...</td>\n",
       "      <td>20180325_091649</td>\n",
       "      <td>1</td>\n",
       "      <td>0</td>\n",
       "    </tr>\n",
       "    <tr>\n",
       "      <th>20</th>\n",
       "      <td>/Users/changkong/ML/Signal Classification/3_Ap...</td>\n",
       "      <td>20180325_091659</td>\n",
       "      <td>0</td>\n",
       "      <td>0</td>\n",
       "    </tr>\n",
       "    <tr>\n",
       "      <th>21</th>\n",
       "      <td>/Users/changkong/ML/Signal Classification/3_Ap...</td>\n",
       "      <td>20180325_091714</td>\n",
       "      <td>0</td>\n",
       "      <td>0</td>\n",
       "    </tr>\n",
       "    <tr>\n",
       "      <th>22</th>\n",
       "      <td>/Users/changkong/ML/Signal Classification/3_Ap...</td>\n",
       "      <td>20180325_091726</td>\n",
       "      <td>0</td>\n",
       "      <td>0</td>\n",
       "    </tr>\n",
       "    <tr>\n",
       "      <th>23</th>\n",
       "      <td>/Users/changkong/ML/Signal Classification/3_Ap...</td>\n",
       "      <td>20180325_091750</td>\n",
       "      <td>0</td>\n",
       "      <td>0</td>\n",
       "    </tr>\n",
       "    <tr>\n",
       "      <th>24</th>\n",
       "      <td>/Users/changkong/ML/Signal Classification/3_Ap...</td>\n",
       "      <td>20180325_091802</td>\n",
       "      <td>0</td>\n",
       "      <td>0</td>\n",
       "    </tr>\n",
       "    <tr>\n",
       "      <th>25</th>\n",
       "      <td>/Users/changkong/ML/Signal Classification/3_Ap...</td>\n",
       "      <td>20180325_091816</td>\n",
       "      <td>0</td>\n",
       "      <td>0</td>\n",
       "    </tr>\n",
       "    <tr>\n",
       "      <th>26</th>\n",
       "      <td>/Users/changkong/ML/Signal Classification/3_Ap...</td>\n",
       "      <td>20180325_091832</td>\n",
       "      <td>0</td>\n",
       "      <td>1</td>\n",
       "    </tr>\n",
       "    <tr>\n",
       "      <th>27</th>\n",
       "      <td>/Users/changkong/ML/Signal Classification/3_Ap...</td>\n",
       "      <td>20180325_091842</td>\n",
       "      <td>0</td>\n",
       "      <td>0</td>\n",
       "    </tr>\n",
       "    <tr>\n",
       "      <th>28</th>\n",
       "      <td>/Users/changkong/ML/Signal Classification/3_Ap...</td>\n",
       "      <td>20180325_091854</td>\n",
       "      <td>0</td>\n",
       "      <td>0</td>\n",
       "    </tr>\n",
       "    <tr>\n",
       "      <th>29</th>\n",
       "      <td>/Users/changkong/ML/Signal Classification/3_Ap...</td>\n",
       "      <td>20180325_091917</td>\n",
       "      <td>0</td>\n",
       "      <td>0</td>\n",
       "    </tr>\n",
       "    <tr>\n",
       "      <th>...</th>\n",
       "      <td>...</td>\n",
       "      <td>...</td>\n",
       "      <td>...</td>\n",
       "      <td>...</td>\n",
       "    </tr>\n",
       "    <tr>\n",
       "      <th>70</th>\n",
       "      <td>/Users/changkong/ML/Signal Classification/3_Ap...</td>\n",
       "      <td>20180325_093133</td>\n",
       "      <td>0</td>\n",
       "      <td>0</td>\n",
       "    </tr>\n",
       "    <tr>\n",
       "      <th>71</th>\n",
       "      <td>/Users/changkong/ML/Signal Classification/3_Ap...</td>\n",
       "      <td>20180325_093146</td>\n",
       "      <td>0</td>\n",
       "      <td>0</td>\n",
       "    </tr>\n",
       "    <tr>\n",
       "      <th>72</th>\n",
       "      <td>/Users/changkong/ML/Signal Classification/3_Ap...</td>\n",
       "      <td>20180325_093208</td>\n",
       "      <td>1</td>\n",
       "      <td>1</td>\n",
       "    </tr>\n",
       "    <tr>\n",
       "      <th>73</th>\n",
       "      <td>/Users/changkong/ML/Signal Classification/3_Ap...</td>\n",
       "      <td>20180325_093217</td>\n",
       "      <td>0</td>\n",
       "      <td>0</td>\n",
       "    </tr>\n",
       "    <tr>\n",
       "      <th>74</th>\n",
       "      <td>/Users/changkong/ML/Signal Classification/3_Ap...</td>\n",
       "      <td>20180325_093242</td>\n",
       "      <td>0</td>\n",
       "      <td>0</td>\n",
       "    </tr>\n",
       "    <tr>\n",
       "      <th>75</th>\n",
       "      <td>/Users/changkong/ML/Signal Classification/3_Ap...</td>\n",
       "      <td>20180325_093255</td>\n",
       "      <td>0</td>\n",
       "      <td>0</td>\n",
       "    </tr>\n",
       "    <tr>\n",
       "      <th>76</th>\n",
       "      <td>/Users/changkong/ML/Signal Classification/3_Ap...</td>\n",
       "      <td>20180325_093328</td>\n",
       "      <td>0</td>\n",
       "      <td>0</td>\n",
       "    </tr>\n",
       "    <tr>\n",
       "      <th>77</th>\n",
       "      <td>/Users/changkong/ML/Signal Classification/3_Ap...</td>\n",
       "      <td>20180325_093340</td>\n",
       "      <td>0</td>\n",
       "      <td>0</td>\n",
       "    </tr>\n",
       "    <tr>\n",
       "      <th>78</th>\n",
       "      <td>/Users/changkong/ML/Signal Classification/3_Ap...</td>\n",
       "      <td>20180325_093350</td>\n",
       "      <td>0</td>\n",
       "      <td>0</td>\n",
       "    </tr>\n",
       "    <tr>\n",
       "      <th>79</th>\n",
       "      <td>/Users/changkong/ML/Signal Classification/3_Ap...</td>\n",
       "      <td>20180325_093358</td>\n",
       "      <td>0</td>\n",
       "      <td>0</td>\n",
       "    </tr>\n",
       "    <tr>\n",
       "      <th>80</th>\n",
       "      <td>/Users/changkong/ML/Signal Classification/3_Ap...</td>\n",
       "      <td>20180325_093408</td>\n",
       "      <td>1</td>\n",
       "      <td>1</td>\n",
       "    </tr>\n",
       "    <tr>\n",
       "      <th>81</th>\n",
       "      <td>/Users/changkong/ML/Signal Classification/3_Ap...</td>\n",
       "      <td>20180325_093416</td>\n",
       "      <td>1</td>\n",
       "      <td>1</td>\n",
       "    </tr>\n",
       "    <tr>\n",
       "      <th>82</th>\n",
       "      <td>/Users/changkong/ML/Signal Classification/3_Ap...</td>\n",
       "      <td>20180325_093500</td>\n",
       "      <td>0</td>\n",
       "      <td>0</td>\n",
       "    </tr>\n",
       "    <tr>\n",
       "      <th>83</th>\n",
       "      <td>/Users/changkong/ML/Signal Classification/3_Ap...</td>\n",
       "      <td>20180325_093516</td>\n",
       "      <td>1</td>\n",
       "      <td>1</td>\n",
       "    </tr>\n",
       "    <tr>\n",
       "      <th>84</th>\n",
       "      <td>/Users/changkong/ML/Signal Classification/3_Ap...</td>\n",
       "      <td>20180325_093533</td>\n",
       "      <td>0</td>\n",
       "      <td>0</td>\n",
       "    </tr>\n",
       "    <tr>\n",
       "      <th>85</th>\n",
       "      <td>/Users/changkong/ML/Signal Classification/3_Ap...</td>\n",
       "      <td>20180325_093546</td>\n",
       "      <td>0</td>\n",
       "      <td>0</td>\n",
       "    </tr>\n",
       "    <tr>\n",
       "      <th>86</th>\n",
       "      <td>/Users/changkong/ML/Signal Classification/3_Ap...</td>\n",
       "      <td>20180325_093558</td>\n",
       "      <td>0</td>\n",
       "      <td>0</td>\n",
       "    </tr>\n",
       "    <tr>\n",
       "      <th>87</th>\n",
       "      <td>/Users/changkong/ML/Signal Classification/3_Ap...</td>\n",
       "      <td>20180325_093608</td>\n",
       "      <td>0</td>\n",
       "      <td>0</td>\n",
       "    </tr>\n",
       "    <tr>\n",
       "      <th>88</th>\n",
       "      <td>/Users/changkong/ML/Signal Classification/3_Ap...</td>\n",
       "      <td>20180325_093618</td>\n",
       "      <td>1</td>\n",
       "      <td>0</td>\n",
       "    </tr>\n",
       "    <tr>\n",
       "      <th>89</th>\n",
       "      <td>/Users/changkong/ML/Signal Classification/3_Ap...</td>\n",
       "      <td>20180325_093629</td>\n",
       "      <td>0</td>\n",
       "      <td>0</td>\n",
       "    </tr>\n",
       "    <tr>\n",
       "      <th>90</th>\n",
       "      <td>/Users/changkong/ML/Signal Classification/3_Ap...</td>\n",
       "      <td>20180325_093642</td>\n",
       "      <td>1</td>\n",
       "      <td>0</td>\n",
       "    </tr>\n",
       "    <tr>\n",
       "      <th>91</th>\n",
       "      <td>/Users/changkong/ML/Signal Classification/3_Ap...</td>\n",
       "      <td>20180325_093716</td>\n",
       "      <td>0</td>\n",
       "      <td>0</td>\n",
       "    </tr>\n",
       "    <tr>\n",
       "      <th>92</th>\n",
       "      <td>/Users/changkong/ML/Signal Classification/3_Ap...</td>\n",
       "      <td>20180325_093732</td>\n",
       "      <td>0</td>\n",
       "      <td>0</td>\n",
       "    </tr>\n",
       "    <tr>\n",
       "      <th>93</th>\n",
       "      <td>/Users/changkong/ML/Signal Classification/3_Ap...</td>\n",
       "      <td>20180325_093803</td>\n",
       "      <td>0</td>\n",
       "      <td>0</td>\n",
       "    </tr>\n",
       "    <tr>\n",
       "      <th>94</th>\n",
       "      <td>/Users/changkong/ML/Signal Classification/3_Ap...</td>\n",
       "      <td>20180325_093820</td>\n",
       "      <td>0</td>\n",
       "      <td>0</td>\n",
       "    </tr>\n",
       "    <tr>\n",
       "      <th>95</th>\n",
       "      <td>/Users/changkong/ML/Signal Classification/3_Ap...</td>\n",
       "      <td>20180325_093833</td>\n",
       "      <td>1</td>\n",
       "      <td>1</td>\n",
       "    </tr>\n",
       "    <tr>\n",
       "      <th>96</th>\n",
       "      <td>/Users/changkong/ML/Signal Classification/3_Ap...</td>\n",
       "      <td>20180325_093840</td>\n",
       "      <td>0</td>\n",
       "      <td>0</td>\n",
       "    </tr>\n",
       "    <tr>\n",
       "      <th>97</th>\n",
       "      <td>/Users/changkong/ML/Signal Classification/3_Ap...</td>\n",
       "      <td>20180325_093901</td>\n",
       "      <td>0</td>\n",
       "      <td>0</td>\n",
       "    </tr>\n",
       "    <tr>\n",
       "      <th>98</th>\n",
       "      <td>/Users/changkong/ML/Signal Classification/3_Ap...</td>\n",
       "      <td>20180325_093909</td>\n",
       "      <td>0</td>\n",
       "      <td>0</td>\n",
       "    </tr>\n",
       "    <tr>\n",
       "      <th>99</th>\n",
       "      <td>/Users/changkong/ML/Signal Classification/3_Ap...</td>\n",
       "      <td>20180325_093918</td>\n",
       "      <td>0</td>\n",
       "      <td>0</td>\n",
       "    </tr>\n",
       "  </tbody>\n",
       "</table>\n",
       "<p>100 rows × 4 columns</p>\n",
       "</div>"
      ],
      "text/plain": [
       "                                            case_path        case_name  \\\n",
       "0   /Users/changkong/ML/Signal Classification/3_Ap...  20180325_090536   \n",
       "1   /Users/changkong/ML/Signal Classification/3_Ap...  20180325_090637   \n",
       "2   /Users/changkong/ML/Signal Classification/3_Ap...  20180325_091016   \n",
       "3   /Users/changkong/ML/Signal Classification/3_Ap...  20180325_091047   \n",
       "4   /Users/changkong/ML/Signal Classification/3_Ap...  20180325_091103   \n",
       "5   /Users/changkong/ML/Signal Classification/3_Ap...  20180325_091138   \n",
       "6   /Users/changkong/ML/Signal Classification/3_Ap...  20180325_091155   \n",
       "7   /Users/changkong/ML/Signal Classification/3_Ap...  20180325_091224   \n",
       "8   /Users/changkong/ML/Signal Classification/3_Ap...  20180325_091237   \n",
       "9   /Users/changkong/ML/Signal Classification/3_Ap...  20180325_091316   \n",
       "10  /Users/changkong/ML/Signal Classification/3_Ap...  20180325_091349   \n",
       "11  /Users/changkong/ML/Signal Classification/3_Ap...  20180325_091403   \n",
       "12  /Users/changkong/ML/Signal Classification/3_Ap...  20180325_091414   \n",
       "13  /Users/changkong/ML/Signal Classification/3_Ap...  20180325_091432   \n",
       "14  /Users/changkong/ML/Signal Classification/3_Ap...  20180325_091520   \n",
       "15  /Users/changkong/ML/Signal Classification/3_Ap...  20180325_091533   \n",
       "16  /Users/changkong/ML/Signal Classification/3_Ap...  20180325_091554   \n",
       "17  /Users/changkong/ML/Signal Classification/3_Ap...  20180325_091605   \n",
       "18  /Users/changkong/ML/Signal Classification/3_Ap...  20180325_091639   \n",
       "19  /Users/changkong/ML/Signal Classification/3_Ap...  20180325_091649   \n",
       "20  /Users/changkong/ML/Signal Classification/3_Ap...  20180325_091659   \n",
       "21  /Users/changkong/ML/Signal Classification/3_Ap...  20180325_091714   \n",
       "22  /Users/changkong/ML/Signal Classification/3_Ap...  20180325_091726   \n",
       "23  /Users/changkong/ML/Signal Classification/3_Ap...  20180325_091750   \n",
       "24  /Users/changkong/ML/Signal Classification/3_Ap...  20180325_091802   \n",
       "25  /Users/changkong/ML/Signal Classification/3_Ap...  20180325_091816   \n",
       "26  /Users/changkong/ML/Signal Classification/3_Ap...  20180325_091832   \n",
       "27  /Users/changkong/ML/Signal Classification/3_Ap...  20180325_091842   \n",
       "28  /Users/changkong/ML/Signal Classification/3_Ap...  20180325_091854   \n",
       "29  /Users/changkong/ML/Signal Classification/3_Ap...  20180325_091917   \n",
       "..                                                ...              ...   \n",
       "70  /Users/changkong/ML/Signal Classification/3_Ap...  20180325_093133   \n",
       "71  /Users/changkong/ML/Signal Classification/3_Ap...  20180325_093146   \n",
       "72  /Users/changkong/ML/Signal Classification/3_Ap...  20180325_093208   \n",
       "73  /Users/changkong/ML/Signal Classification/3_Ap...  20180325_093217   \n",
       "74  /Users/changkong/ML/Signal Classification/3_Ap...  20180325_093242   \n",
       "75  /Users/changkong/ML/Signal Classification/3_Ap...  20180325_093255   \n",
       "76  /Users/changkong/ML/Signal Classification/3_Ap...  20180325_093328   \n",
       "77  /Users/changkong/ML/Signal Classification/3_Ap...  20180325_093340   \n",
       "78  /Users/changkong/ML/Signal Classification/3_Ap...  20180325_093350   \n",
       "79  /Users/changkong/ML/Signal Classification/3_Ap...  20180325_093358   \n",
       "80  /Users/changkong/ML/Signal Classification/3_Ap...  20180325_093408   \n",
       "81  /Users/changkong/ML/Signal Classification/3_Ap...  20180325_093416   \n",
       "82  /Users/changkong/ML/Signal Classification/3_Ap...  20180325_093500   \n",
       "83  /Users/changkong/ML/Signal Classification/3_Ap...  20180325_093516   \n",
       "84  /Users/changkong/ML/Signal Classification/3_Ap...  20180325_093533   \n",
       "85  /Users/changkong/ML/Signal Classification/3_Ap...  20180325_093546   \n",
       "86  /Users/changkong/ML/Signal Classification/3_Ap...  20180325_093558   \n",
       "87  /Users/changkong/ML/Signal Classification/3_Ap...  20180325_093608   \n",
       "88  /Users/changkong/ML/Signal Classification/3_Ap...  20180325_093618   \n",
       "89  /Users/changkong/ML/Signal Classification/3_Ap...  20180325_093629   \n",
       "90  /Users/changkong/ML/Signal Classification/3_Ap...  20180325_093642   \n",
       "91  /Users/changkong/ML/Signal Classification/3_Ap...  20180325_093716   \n",
       "92  /Users/changkong/ML/Signal Classification/3_Ap...  20180325_093732   \n",
       "93  /Users/changkong/ML/Signal Classification/3_Ap...  20180325_093803   \n",
       "94  /Users/changkong/ML/Signal Classification/3_Ap...  20180325_093820   \n",
       "95  /Users/changkong/ML/Signal Classification/3_Ap...  20180325_093833   \n",
       "96  /Users/changkong/ML/Signal Classification/3_Ap...  20180325_093840   \n",
       "97  /Users/changkong/ML/Signal Classification/3_Ap...  20180325_093901   \n",
       "98  /Users/changkong/ML/Signal Classification/3_Ap...  20180325_093909   \n",
       "99  /Users/changkong/ML/Signal Classification/3_Ap...  20180325_093918   \n",
       "\n",
       "    expect_result_x  expect_result_y  \n",
       "0                 1                0  \n",
       "1                 0                1  \n",
       "2                 0                0  \n",
       "3                 0                0  \n",
       "4                 0                0  \n",
       "5                 0                0  \n",
       "6                 0                0  \n",
       "7                 0                0  \n",
       "8                 0                0  \n",
       "9                 0                0  \n",
       "10                0                0  \n",
       "11                0                0  \n",
       "12                0                0  \n",
       "13                0                0  \n",
       "14                1                0  \n",
       "15                0                0  \n",
       "16                0                0  \n",
       "17                1                1  \n",
       "18                0                0  \n",
       "19                1                0  \n",
       "20                0                0  \n",
       "21                0                0  \n",
       "22                0                0  \n",
       "23                0                0  \n",
       "24                0                0  \n",
       "25                0                0  \n",
       "26                0                1  \n",
       "27                0                0  \n",
       "28                0                0  \n",
       "29                0                0  \n",
       "..              ...              ...  \n",
       "70                0                0  \n",
       "71                0                0  \n",
       "72                1                1  \n",
       "73                0                0  \n",
       "74                0                0  \n",
       "75                0                0  \n",
       "76                0                0  \n",
       "77                0                0  \n",
       "78                0                0  \n",
       "79                0                0  \n",
       "80                1                1  \n",
       "81                1                1  \n",
       "82                0                0  \n",
       "83                1                1  \n",
       "84                0                0  \n",
       "85                0                0  \n",
       "86                0                0  \n",
       "87                0                0  \n",
       "88                1                0  \n",
       "89                0                0  \n",
       "90                1                0  \n",
       "91                0                0  \n",
       "92                0                0  \n",
       "93                0                0  \n",
       "94                0                0  \n",
       "95                1                1  \n",
       "96                0                0  \n",
       "97                0                0  \n",
       "98                0                0  \n",
       "99                0                0  \n",
       "\n",
       "[100 rows x 4 columns]"
      ]
     },
     "execution_count": 42,
     "metadata": {},
     "output_type": "execute_result"
    }
   ],
   "source": [
    "# label_df.head()\n",
    "test_labels.head(100)"
   ]
  },
  {
   "cell_type": "code",
   "execution_count": 43,
   "metadata": {},
   "outputs": [
    {
     "data": {
      "text/plain": [
       "{'reason': -1, 'speed': 13916.015624999998, 'stat': 1}"
      ]
     },
     "execution_count": 43,
     "metadata": {},
     "output_type": "execute_result"
    }
   ],
   "source": [
    "sigMgr.process('/Users/changkong/ML/Signal Classification/testData/Data.20180426/不良品1欧姆测试/Data.20180426/20180426_153051/Channel_1.csv', request_param={'skip_row':[1], 'model_path':['/Users/changkong/ML/Signal Classification/project/model/ada.pkl']})"
   ]
  },
  {
   "cell_type": "code",
   "execution_count": 44,
   "metadata": {},
   "outputs": [],
   "source": [
    "f = sigMgr.get_features('/Users/changkong/ML/Signal Classification/3_Application/Data/20180325_090536/Channel_1.csv')"
   ]
  },
  {
   "cell_type": "code",
   "execution_count": 45,
   "metadata": {},
   "outputs": [],
   "source": [
    "# sigMgr.process('/Users/changkong/Desktop/Data1615/20180325_090536/Channel_1.csv', request_param={'skip_row':[1], 'model_path':['/Users/changkong/ML/Signal Classification/project/model/ada.pkl']})"
   ]
  },
  {
   "cell_type": "code",
   "execution_count": 46,
   "metadata": {},
   "outputs": [],
   "source": [
    "# dataset_df = pd.DataFrame()\n",
    "pathes = test_labels['case_path']\n",
    "# print pathes\n",
    "feature_set = dict()\n",
    "feature_set['peaks_num'] = list()\n",
    "feature_set['down_peaks_num'] = list()\n",
    "feature_set['up_edges_num'] = list()\n",
    "feature_set['down_edges_num'] = list()\n",
    "feature_set['peak_edge_ratio'] = list()\n",
    "feature_set['down_peak_edge_ratio'] = list()\n",
    "feature_set['edge_diff_10'] = list()\n",
    "feature_set['edge_diff_20'] = list()\n",
    "# feature_set['edge_diff_30'] = list()\n",
    "feature_set['edge_diff_50'] = list()\n",
    "feature_set['width_diff_10'] = list()\n",
    "feature_set['negative_peak_num'] = list()\n",
    "# feature_set['width_diff_20'] = list()\n",
    "# feature_set['width_diff_30'] = list()\n",
    "# feature_set['width_diff_50'] = list()\n",
    "for test_case in pathes:\n",
    "    features = sigMgr.get_features(test_case, request_param={'skip_row':[1], 'model_path':'train'})\n",
    "    feature_set['peaks_num'].append(features['peaks_num'])\n",
    "    feature_set['up_edges_num'].append(features['up_edges_num'])\n",
    "    feature_set['down_edges_num'].append(features['down_edges_num'])\n",
    "    feature_set['down_peaks_num'].append(features['down_peaks_num'])\n",
    "    feature_set['peak_edge_ratio'].append(features['peak_edge_ratio'])\n",
    "    feature_set['down_peak_edge_ratio'].append(features['down_peak_edge_ratio'])\n",
    "    feature_set['edge_diff_10'].append(features['edge_diff_10'])\n",
    "    feature_set['edge_diff_20'].append(features['edge_diff_20'])\n",
    "#     feature_set['edge_diff_30'].append(features['edge_diff_30'])\n",
    "    feature_set['edge_diff_50'].append(features['edge_diff_50'])\n",
    "    feature_set['width_diff_10'].append(features['width_diff_10'])\n",
    "    feature_set['negative_peak_num'].append(features['negative_peak_num'])\n",
    "#     feature_set['width_diff_20'].append(features['width_diff_20'])\n",
    "#     feature_set['width_diff_30'].append(features['width_diff_30'])\n",
    "#     feature_set['width_diff_50'].append(features['width_diff_50'])\n",
    "\n",
    "dataset = pd.DataFrame(feature_set)"
   ]
  },
  {
   "cell_type": "code",
   "execution_count": 2,
   "metadata": {},
   "outputs": [
    {
     "ename": "NameError",
     "evalue": "name 'dataset' is not defined",
     "output_type": "error",
     "traceback": [
      "\u001b[0;31m\u001b[0m",
      "\u001b[0;31mNameError\u001b[0mTraceback (most recent call last)",
      "\u001b[0;32m<ipython-input-2-f9013b5bf246>\u001b[0m in \u001b[0;36m<module>\u001b[0;34m()\u001b[0m\n\u001b[0;32m----> 1\u001b[0;31m \u001b[0mdataset\u001b[0m\u001b[0;34m.\u001b[0m\u001b[0mhead\u001b[0m\u001b[0;34m(\u001b[0m\u001b[0;34m)\u001b[0m\u001b[0;34m\u001b[0m\u001b[0m\n\u001b[0m",
      "\u001b[0;31mNameError\u001b[0m: name 'dataset' is not defined"
     ]
    }
   ],
   "source": [
    "dataset.head()"
   ]
  },
  {
   "cell_type": "code",
   "execution_count": 49,
   "metadata": {
    "collapsed": true
   },
   "outputs": [],
   "source": [
    "mask = dataset.negative_peak_num > 0"
   ]
  },
  {
   "cell_type": "code",
   "execution_count": 63,
   "metadata": {},
   "outputs": [],
   "source": [
    "from sklearn.cross_validation import train_test_split\n",
    "\n",
    "msk = np.random.rand(len(dataset)) < 0.8\n",
    "label = dataset['label']\n",
    "\n",
    "# x = dataset.drop('label', axis=1)\n",
    "# train_x = x[msk].reset_index(drop=True)\n",
    "# test_x = x[~msk].reset_index(drop=True)\n",
    "# train_y = label[msk].reset_index(drop=True)\n",
    "# test_y = label[~msk].reset_index(drop=True)\n",
    "x = dataset.drop('label', axis=1)\n",
    "train_x = x[msk]\n",
    "test_x = x[~msk]\n",
    "train_y = label[msk]\n",
    "test_y = label[~msk]"
   ]
  },
  {
   "cell_type": "code",
   "execution_count": 71,
   "metadata": {},
   "outputs": [],
   "source": [
    "train_x = x[msk]\n",
    "test_x = x[~msk]\n",
    "train_y = label[msk]\n",
    "test_y = label[~msk]"
   ]
  },
  {
   "cell_type": "code",
   "execution_count": 72,
   "metadata": {},
   "outputs": [
    {
     "name": "stdout",
     "output_type": "stream",
     "text": [
      "             precision    recall  f1-score   support\n",
      "\n",
      "          0       0.88      0.94      0.91      1106\n",
      "          1       0.79      0.66      0.72       398\n",
      "\n",
      "avg / total       0.86      0.86      0.86      1504\n",
      "\n"
     ]
    }
   ],
   "source": [
    "from sklearn.ensemble import AdaBoostClassifier as ada\n",
    "from sklearn.metrics import classification_report\n",
    "\n",
    "# train_new_x = train_x.drop(['width_diff_20', 'width_diff_30', 'edge_diff_30'], axis=1)\n",
    "# test_new_x = test_x.drop(['width_diff_20', 'width_diff_30','edge_diff_30'], axis=1)\n",
    "train_new_x = train_x\n",
    "test_new_x = test_x\n",
    "adaModel = ada(n_estimators=100, learning_rate = 0.7, random_state=10)\n",
    "adaModel.fit(train_new_x, train_y)\n",
    "pResult = adaModel.predict(test_new_x)\n",
    "# possiblities = adaModel.predict_proba(test_x)\n",
    "# pResult = [int(p0 < p1 + 0.011) for p0, p1 in possiblities]\n",
    "# pResult = possiblities.where(possiblities >= 0.6, 1, 0)\n",
    "print(classification_report(test_y, pResult))"
   ]
  },
  {
   "cell_type": "code",
   "execution_count": 52,
   "metadata": {},
   "outputs": [
    {
     "data": {
      "text/plain": [
       "array([0], dtype=int32)"
      ]
     },
     "execution_count": 52,
     "metadata": {},
     "output_type": "execute_result"
    }
   ],
   "source": [
    "# adaModel.predict(train_x.head(1))"
   ]
  },
  {
   "cell_type": "code",
   "execution_count": 73,
   "metadata": {},
   "outputs": [
    {
     "name": "stdout",
     "output_type": "stream",
     "text": [
      "0.827134306735\n"
     ]
    },
    {
     "data": {
      "text/plain": [
       "<matplotlib.text.Text at 0x112871c50>"
      ]
     },
     "execution_count": 73,
     "metadata": {},
     "output_type": "execute_result"
    },
    {
     "data": {
      "image/png": "[encoded data removed]",
      "text/plain": [
       "<matplotlib.figure.Figure at 0x115553710>"
      ]
     },
     "metadata": {},
     "output_type": "display_data"
    }
   ],
   "source": [
    "from sklearn.metrics import precision_recall_curve\n",
    "from sklearn.metrics import average_precision_score\n",
    "from matplotlib import pyplot as plt\n",
    "\n",
    "%matplotlib inline\n",
    "score_y = adaModel.predict_proba(test_x)[:,1]\n",
    "# average_precision\n",
    "average_precision = average_precision_score(test_y, score_y)\n",
    "print average_precision\n",
    "# precision, recall\n",
    "precision, recall, _ = precision_recall_curve(test_y, score_y)\n",
    "plt.step(recall, precision, color='b', alpha=0.2,\n",
    "         where='post')\n",
    "plt.fill_between(recall, precision, step='post', alpha=0.2,\n",
    "                 color='b')\n",
    "\n",
    "plt.xlabel('Recall')\n",
    "plt.ylabel('Precision')\n",
    "plt.ylim([0.0, 1.05])\n",
    "plt.xlim([0.0, 1.0])\n",
    "plt.title('2-class Precision-Recall curve: AP={0:0.2f}'.format(\n",
    "          average_precision))"
   ]
  },
  {
   "cell_type": "code",
   "execution_count": 74,
   "metadata": {},
   "outputs": [],
   "source": [
    "predict_possibility = adaModel.predict_proba(test_x)"
   ]
  },
  {
   "cell_type": "code",
   "execution_count": 75,
   "metadata": {},
   "outputs": [
    {
     "data": {
      "text/plain": [
       "array([ 0.48883564,  0.48868173,  0.49599122, ...,  0.51010195,\n",
       "        0.4834575 ,  0.48157739])"
      ]
     },
     "execution_count": 75,
     "metadata": {},
     "output_type": "execute_result"
    }
   ],
   "source": [
    "predict_possibility[:,1]"
   ]
  },
  {
   "cell_type": "code",
   "execution_count": 76,
   "metadata": {},
   "outputs": [
    {
     "data": {
      "text/plain": [
       "array([0], dtype=int32)"
      ]
     },
     "execution_count": 76,
     "metadata": {},
     "output_type": "execute_result"
    }
   ],
   "source": [
    "adaModel.predict(test_x.head(1))"
   ]
  },
  {
   "cell_type": "code",
   "execution_count": 77,
   "metadata": {},
   "outputs": [
    {
     "data": {
      "text/plain": [
       "['../model/ada.pkl']"
      ]
     },
     "execution_count": 77,
     "metadata": {},
     "output_type": "execute_result"
    }
   ],
   "source": [
    "from sklearn.externals import joblib\n",
    "joblib.dump(adaModel, '../model/ada.pkl')"
   ]
  },
  {
   "cell_type": "code",
   "execution_count": 58,
   "metadata": {},
   "outputs": [
    {
     "data": {
      "text/plain": [
       "u'/Users/changkong/ML/Signal Classification/project/script'"
      ]
     },
     "execution_count": 58,
     "metadata": {},
     "output_type": "execute_result"
    }
   ],
   "source": [
    "%pwd"
   ]
  },
  {
   "cell_type": "code",
   "execution_count": 78,
   "metadata": {},
   "outputs": [
    {
     "data": {
      "text/plain": [
       "AdaBoostClassifier(algorithm='SAMME.R', base_estimator=None,\n",
       "          learning_rate=0.7, n_estimators=100, random_state=10)"
      ]
     },
     "execution_count": 78,
     "metadata": {},
     "output_type": "execute_result"
    }
   ],
   "source": [
    "joblib.load('../model/ada.pkl') "
   ]
  },
  {
   "cell_type": "code",
   "execution_count": 82,
   "metadata": {
    "scrolled": true
   },
   "outputs": [
    {
     "name": "stdout",
     "output_type": "stream",
     "text": [
      "             precision    recall  f1-score   support\n",
      "\n",
      "          0       0.89      0.94      0.92      1106\n",
      "          1       0.81      0.69      0.75       398\n",
      "\n",
      "avg / total       0.87      0.88      0.87      1504\n",
      "\n"
     ]
    }
   ],
   "source": [
    "from sklearn.ensemble import GradientBoostingClassifier\n",
    "\n",
    "gdbtModel = GradientBoostingClassifier()\n",
    "gdbtModel.fit(train_x, train_y)\n",
    "pResult = gdbtModel.predict(test_x)\n",
    "print(classification_report(test_y, pResult))"
   ]
  },
  {
   "cell_type": "code",
   "execution_count": 90,
   "metadata": {},
   "outputs": [
    {
     "data": {
      "text/plain": [
       "['../model/xgb.pkl']"
      ]
     },
     "execution_count": 90,
     "metadata": {},
     "output_type": "execute_result"
    }
   ],
   "source": [
    "joblib.dump(adaModel, '../model/xgb.pkl')"
   ]
  }
 ],
 "metadata": {
  "kernelspec": {
   "display_name": "Python 2",
   "language": "python",
   "name": "python2"
  },
  "language_info": {
   "codemirror_mode": {
    "name": "ipython",
    "version": 2
   },
   "file_extension": ".py",
   "mimetype": "text/x-python",
   "name": "python",
   "nbconvert_exporter": "python",
   "pygments_lexer": "ipython2",
   "version": "2.7.15"
  }
 },
 "nbformat": 4,
 "nbformat_minor": 2
}
