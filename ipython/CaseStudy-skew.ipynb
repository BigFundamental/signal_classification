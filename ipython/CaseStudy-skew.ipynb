{
 "cells": [
  {
   "cell_type": "code",
   "execution_count": 1,
   "metadata": {
    "collapsed": true
   },
   "outputs": [],
   "source": [
    "%load_ext autoreload\n",
    "%autoreload 2\n",
    "from script.feature_extractor import FeatureExtractor\n",
    "from script.classifier import Classifier\n",
    "from script.signal_manager import SignalMgr\n",
    "from script.filter import Filter\n",
    "from script.data_reader import DataReader\n",
    "import numpy as np\n",
    "import pandas as pd\n",
    "import os\n",
    "from matplotlib import pyplot as plt\n",
    "%matplotlib inline"
   ]
  },
  {
   "cell_type": "code",
   "execution_count": 2,
   "metadata": {
    "collapsed": true
   },
   "outputs": [],
   "source": [
    "INVALID_DATA_FPATH='/Volumes/workspace/projects/signal_classification/data/特殊次品样本/长短.20190515/'\n",
    "FULL_DATA_FAPTH='/Volumes/workspace/projects/signal_classification/data/1005_0830重新标注文件_Data._20180609.0830'\n",
    "MISS_VALID_POSSIBILITY_FPATH=''"
   ]
  },
  {
   "cell_type": "code",
   "execution_count": 3,
   "metadata": {
    "collapsed": true
   },
   "outputs": [],
   "source": [
    "data_reader = DataReader()"
   ]
  },
  {
   "cell_type": "code",
   "execution_count": 4,
   "metadata": {},
   "outputs": [
    {
     "data": {
      "text/html": [
       "<div>\n",
       "<style scoped>\n",
       "    .dataframe tbody tr th:only-of-type {\n",
       "        vertical-align: middle;\n",
       "    }\n",
       "\n",
       "    .dataframe tbody tr th {\n",
       "        vertical-align: top;\n",
       "    }\n",
       "\n",
       "    .dataframe thead th {\n",
       "        text-align: right;\n",
       "    }\n",
       "</style>\n",
       "<table border=\"1\" class=\"dataframe\">\n",
       "  <thead>\n",
       "    <tr style=\"text-align: right;\">\n",
       "      <th></th>\n",
       "      <th>channel_id</th>\n",
       "      <th>expect_result</th>\n",
       "      <th>reason</th>\n",
       "    </tr>\n",
       "  </thead>\n",
       "  <tbody>\n",
       "    <tr>\n",
       "      <th>count</th>\n",
       "      <td>656.000000</td>\n",
       "      <td>656.0</td>\n",
       "      <td>656.0</td>\n",
       "    </tr>\n",
       "    <tr>\n",
       "      <th>mean</th>\n",
       "      <td>4.500000</td>\n",
       "      <td>1.0</td>\n",
       "      <td>4.0</td>\n",
       "    </tr>\n",
       "    <tr>\n",
       "      <th>std</th>\n",
       "      <td>2.293036</td>\n",
       "      <td>0.0</td>\n",
       "      <td>0.0</td>\n",
       "    </tr>\n",
       "    <tr>\n",
       "      <th>min</th>\n",
       "      <td>1.000000</td>\n",
       "      <td>1.0</td>\n",
       "      <td>4.0</td>\n",
       "    </tr>\n",
       "    <tr>\n",
       "      <th>25%</th>\n",
       "      <td>2.750000</td>\n",
       "      <td>1.0</td>\n",
       "      <td>4.0</td>\n",
       "    </tr>\n",
       "    <tr>\n",
       "      <th>50%</th>\n",
       "      <td>4.500000</td>\n",
       "      <td>1.0</td>\n",
       "      <td>4.0</td>\n",
       "    </tr>\n",
       "    <tr>\n",
       "      <th>75%</th>\n",
       "      <td>6.250000</td>\n",
       "      <td>1.0</td>\n",
       "      <td>4.0</td>\n",
       "    </tr>\n",
       "    <tr>\n",
       "      <th>max</th>\n",
       "      <td>8.000000</td>\n",
       "      <td>1.0</td>\n",
       "      <td>4.0</td>\n",
       "    </tr>\n",
       "  </tbody>\n",
       "</table>\n",
       "</div>"
      ],
      "text/plain": [
       "       channel_id  expect_result  reason\n",
       "count  656.000000          656.0   656.0\n",
       "mean     4.500000            1.0     4.0\n",
       "std      2.293036            0.0     0.0\n",
       "min      1.000000            1.0     4.0\n",
       "25%      2.750000            1.0     4.0\n",
       "50%      4.500000            1.0     4.0\n",
       "75%      6.250000            1.0     4.0\n",
       "max      8.000000            1.0     4.0"
      ]
     },
     "execution_count": 4,
     "metadata": {},
     "output_type": "execute_result"
    }
   ],
   "source": [
    "# long-short dataframe 长短波 波形文件\n",
    "ls_df = data_reader.get_signal_list(INVALID_DATA_FPATH).drop(labels=['sys_result'], axis=1)\n",
    "ls_df['expect_result'] = 1\n",
    "ls_df['reason'] = 4\n",
    "ls_df.describe()"
   ]
  },
  {
   "cell_type": "code",
   "execution_count": 5,
   "metadata": {},
   "outputs": [
    {
     "data": {
      "text/html": [
       "<div>\n",
       "<style scoped>\n",
       "    .dataframe tbody tr th:only-of-type {\n",
       "        vertical-align: middle;\n",
       "    }\n",
       "\n",
       "    .dataframe tbody tr th {\n",
       "        vertical-align: top;\n",
       "    }\n",
       "\n",
       "    .dataframe thead th {\n",
       "        text-align: right;\n",
       "    }\n",
       "</style>\n",
       "<table border=\"1\" class=\"dataframe\">\n",
       "  <thead>\n",
       "    <tr style=\"text-align: right;\">\n",
       "      <th></th>\n",
       "      <th>case_name</th>\n",
       "      <th>channel_id</th>\n",
       "      <th>case_path</th>\n",
       "      <th>expect_result</th>\n",
       "      <th>reason</th>\n",
       "    </tr>\n",
       "  </thead>\n",
       "  <tbody>\n",
       "    <tr>\n",
       "      <th>0</th>\n",
       "      <td>20180325_090536</td>\n",
       "      <td>1</td>\n",
       "      <td>/Volumes/workspace/projects/signal_classificat...</td>\n",
       "      <td>0</td>\n",
       "      <td>-1</td>\n",
       "    </tr>\n",
       "    <tr>\n",
       "      <th>1</th>\n",
       "      <td>20180325_090637</td>\n",
       "      <td>1</td>\n",
       "      <td>/Volumes/workspace/projects/signal_classificat...</td>\n",
       "      <td>1</td>\n",
       "      <td>9</td>\n",
       "    </tr>\n",
       "    <tr>\n",
       "      <th>2</th>\n",
       "      <td>20180325_091016</td>\n",
       "      <td>1</td>\n",
       "      <td>/Volumes/workspace/projects/signal_classificat...</td>\n",
       "      <td>1</td>\n",
       "      <td>5</td>\n",
       "    </tr>\n",
       "    <tr>\n",
       "      <th>3</th>\n",
       "      <td>20180325_091047</td>\n",
       "      <td>1</td>\n",
       "      <td>/Volumes/workspace/projects/signal_classificat...</td>\n",
       "      <td>1</td>\n",
       "      <td>5</td>\n",
       "    </tr>\n",
       "    <tr>\n",
       "      <th>4</th>\n",
       "      <td>20180325_091103</td>\n",
       "      <td>1</td>\n",
       "      <td>/Volumes/workspace/projects/signal_classificat...</td>\n",
       "      <td>1</td>\n",
       "      <td>5</td>\n",
       "    </tr>\n",
       "  </tbody>\n",
       "</table>\n",
       "</div>"
      ],
      "text/plain": [
       "         case_name  channel_id  \\\n",
       "0  20180325_090536           1   \n",
       "1  20180325_090637           1   \n",
       "2  20180325_091016           1   \n",
       "3  20180325_091047           1   \n",
       "4  20180325_091103           1   \n",
       "\n",
       "                                           case_path  expect_result  reason  \n",
       "0  /Volumes/workspace/projects/signal_classificat...              0      -1  \n",
       "1  /Volumes/workspace/projects/signal_classificat...              1       9  \n",
       "2  /Volumes/workspace/projects/signal_classificat...              1       5  \n",
       "3  /Volumes/workspace/projects/signal_classificat...              1       5  \n",
       "4  /Volumes/workspace/projects/signal_classificat...              1       5  "
      ]
     },
     "execution_count": 5,
     "metadata": {},
     "output_type": "execute_result"
    }
   ],
   "source": [
    "norm_df = data_reader.create_single_index(FULL_DATA_FAPTH+'/'+'result.csv').drop(labels='sys_result', axis=1)\n",
    "norm_df[norm_df.reason==4].describe()\n",
    "norm_df.head()"
   ]
  },
  {
   "cell_type": "code",
   "execution_count": 6,
   "metadata": {},
   "outputs": [
    {
     "name": "stdout",
     "output_type": "stream",
     "text": [
      "/Volumes/workspace/projects/signal_classification/data/特殊次品样本/长短.20190515/20190515_195250029/Channel_2.csv\n"
     ]
    },
    {
     "data": {
      "text/plain": [
       "<matplotlib.axes._subplots.AxesSubplot at 0x112360f90>"
      ]
     },
     "execution_count": 6,
     "metadata": {},
     "output_type": "execute_result"
    },
    {
     "data": {
      "image/png": "[encoded data removed]",
      "text/plain": [
       "<Figure size 432x288 with 1 Axes>"
      ]
     },
     "metadata": {
      "needs_background": "light"
     },
     "output_type": "display_data"
    }
   ],
   "source": [
    "# 长短波 case 分析\n",
    "ls_df.head(1)\n",
    "path1 = ls_df.loc[ls_df.index ==0, 'case_path'][0]\n",
    "path2 = ls_df['case_path'][1]\n",
    "print (path2)\n",
    "import pandas as pd\n",
    "signals = pd.read_csv(path1, skiprows=1, header=None)\n",
    "signals[0:200].plot()"
   ]
  },
  {
   "cell_type": "code",
   "execution_count": 8,
   "metadata": {
    "collapsed": true
   },
   "outputs": [],
   "source": [
    "sigMgr = SignalMgr()\n",
    "feature = sigMgr.get_features(path1, request_param={'skip_row':[1], 'model_path':['train']})"
   ]
  },
  {
   "cell_type": "code",
   "execution_count": 10,
   "metadata": {},
   "outputs": [
    {
     "name": "stdout",
     "output_type": "stream",
     "text": [
      "[((2, 8), (19, 25)), ((30, 36), (43, 49)), ((58, 65), (72, 78)), ((77, 83), (95, 104)), ((107, 117), (123, 129)), ((129, 141), (148, 154)), ((163, 164), (176, 182)), ((186, 189), (199, 207)), ((213, 217), (229, 235)), ((239, 241), (252, 258)), ((266, 273), (280, 286)), ((286, 292), (304, 310)), ((320, 327), (333, 339)), ((343, 345), (356, 362)), ((371, 373), (384, 390)), ((390, 396), (408, 414)), ((419, 429), (436, 448)), ((447, 455), (460, 469)), ((475, 477), (488, 494)), ((494, 500), (512, 518)), ((525, 535), (541, 546)), ((552, 559), (565, 571)), ((578, 586), (593, 599)), ((599, 611), (616, 622)), ((630, 634), (645, 651)), ((651, 662), (669, 675)), ((683, 690), (697, 703)), ((703, 709), (721, 727)), ((735, 744), (749, 761)), ((760, 762), (773, 779)), ((787, 795), (801, 807)), ((807, 813), (825, 831)), ((840, 848), (854, 865)), ((864, 872), (878, 884)), ((892, 894), (907, 912)), ((912, 924), (930, 935)), ((944, 952), (958, 964)), ((964, 970), (982, 988)), ((996, 1004), (1010, 1016))]\n"
     ]
    }
   ],
   "source": [
    "print (feature['paired_edges'])"
   ]
  },
  {
   "cell_type": "code",
   "execution_count": 93,
   "metadata": {},
   "outputs": [
    {
     "name": "stdout",
     "output_type": "stream",
     "text": [
      "[5, 9, 1, 3, 0, 9, 4, 6, 4, 8, 0, 10, 4, 9, 0, 5, 1, 6, 0, 7, 6, 7, 0, 8, 0, 8, 0, 8, 1, 8, 0, 9, 1, 8, 0, 9, 0, 8]\n",
      "6.297297297297297\n",
      "2.491768772241321\n"
     ]
    }
   ],
   "source": [
    "print (feature['unit_interviene_length'])\n",
    "print (np.mean(feature['unit_interviene_length_diff']))\n",
    "print (np.std(feature['unit_interviene_length_diff']))"
   ]
  },
  {
   "cell_type": "code",
   "execution_count": 94,
   "metadata": {},
   "outputs": [
    {
     "name": "stdout",
     "output_type": "stream",
     "text": [
      "[4, 9, 4, 11, 4, 11, 0, 10, 5, 12, 4, 9, 5, 10, 4, 10, 4, 11, 4, 11, 1, 13, 4, 11, 4, 8, 5, 8, 5, 10, 4, 11, 4]\n",
      "6.5\n",
      "2.165063509461097\n"
     ]
    }
   ],
   "source": [
    "feature1 = sigMgr.get_features(path2, request_param={'skip_row':[1], 'model_path':['train']})\n",
    "print (feature1['unit_interviene_length'])\n",
    "print (np.mean(feature1['unit_interviene_length_diff']))\n",
    "print (np.std(feature1['unit_interviene_length_diff']))\n"
   ]
  },
  {
   "cell_type": "code",
   "execution_count": 271,
   "metadata": {},
   "outputs": [
    {
     "name": "stdout",
     "output_type": "stream",
     "text": [
      "[7, 9, 8, 8, 6, 7, 7, 7, 7, 8, 7, 7, 8, 8, 7, 8, 7, 8, 7, 7, 7, 8, 7, 7, 8, 7, 7, 8, 7, 8, 7, 7, 7, 8]\n",
      "0.696969696969697\n",
      "0.5765544724375893\n"
     ]
    },
    {
     "data": {
      "text/plain": [
       "<matplotlib.axes._subplots.AxesSubplot at 0x11dc97e90>"
      ]
     },
     "execution_count": 271,
     "metadata": {},
     "output_type": "execute_result"
    },
    {
     "data": {
      "image/png": "[encoded data removed]",
      "text/plain": [
       "<Figure size 432x288 with 1 Axes>"
      ]
     },
     "metadata": {
      "needs_background": "light"
     },
     "output_type": "display_data"
    }
   ],
   "source": [
    "path3 = norm_df.loc[norm_df.expect_result == 0, 'case_path'].reset_index(drop=True)[3]\n",
    "feature1 = sigMgr.get_features(path3, request_param={'skip_row':[1], 'model_path':['train']})\n",
    "print (feature1['unit_interviene_length'])\n",
    "print (np.mean(feature1['unit_interviene_length_diff']))\n",
    "print (np.std(feature1['unit_interviene_length_diff']))\n",
    "signals = pd.read_csv(path3, skiprows=1)\n",
    "signals[0:200].plot()"
   ]
  },
  {
   "cell_type": "code",
   "execution_count": 136,
   "metadata": {
    "collapsed": true
   },
   "outputs": [],
   "source": [
    "# 开始进行模型迭代和训练, 整合训练数据和测试数据\n",
    "\n",
    "def data_prepare(train_path, test_path, ls_eval_path):\n",
    "    # 预留长短波形的数据用于数据的测试\n",
    "    msk = np.random.rand(len(ls_df)) < 0.8\n",
    "    ls_train_df = ls_df[msk]         #用于训练\n",
    "    ls_eval_df = ls_df[~msk]         #用于最后验证\n",
    "\n",
    "    # 获取整体的训练数据\n",
    "    train_mix_df = ls_train_df.append(norm_df).reset_index(drop=True)\n",
    "    # 再次划分为测试集合与训练集合\n",
    "    msk = np.random.rand(len(train_mix_df)) < 0.8\n",
    "    train_df = train_mix_df[msk]\n",
    "    test_df = train_mix_df[~msk]\n",
    "\n",
    "    # pandas 写入到文件中进行缓存，用于迭代测试，避免出现每次划分数据集合auc发生变化\n",
    "    train_df.to_csv(train_path, index=False)\n",
    "    test_df.to_csv(test_path, index=False)\n",
    "    ls_eval_df.to_csv(ls_eval_path, index=False)"
   ]
  },
  {
   "cell_type": "code",
   "execution_count": 137,
   "metadata": {
    "collapsed": true
   },
   "outputs": [],
   "source": [
    "# data_prepare(\"../data/train.csv\", \"../data/test.csv\", \"../data/ls_eval.csv\")"
   ]
  },
  {
   "cell_type": "code",
   "execution_count": 138,
   "metadata": {
    "collapsed": true
   },
   "outputs": [],
   "source": [
    "data_root = '../data'\n",
    "# 开始进行特征的获取\n",
    "train_df = pd.read_csv(data_root + '/' + 'train.csv')"
   ]
  },
  {
   "cell_type": "code",
   "execution_count": 144,
   "metadata": {
    "collapsed": true
   },
   "outputs": [],
   "source": [
    "normal_cases = train_df[train_df.expect_result == 0]\n",
    "other_defect_cases = train_df[(train_df.expect_result == 1) & (train_df.reason != 4)]\n",
    "ls_defet_cases = train_df[train_df.reason == 4]"
   ]
  },
  {
   "cell_type": "code",
   "execution_count": 156,
   "metadata": {
    "collapsed": true
   },
   "outputs": [],
   "source": [
    "def get_features(df):\n",
    "    mu_list = []\n",
    "    delta_list = []\n",
    "    sigMgr = SignalMgr()\n",
    "    for path in df['case_path']:\n",
    "        feature = sigMgr.get_features(path, request_param={'skip_row':[1], 'model_path':['train']})\n",
    "        mu_list.append(np.mean(feature['unit_interviene_length_diff']))\n",
    "        delta_list.append(np.std(feature['unit_interviene_length_diff']))\n",
    "    return np.min(mu_list), np.max(mu_list), np.min(delta_list), np.max(delta_list), np.mean(mu_list), np.mean(delta_list)"
   ]
  },
  {
   "cell_type": "code",
   "execution_count": 158,
   "metadata": {},
   "outputs": [
    {
     "data": {
      "text/plain": [
       "(1.5142857142857142,\n",
       " 14.678571428571429,\n",
       " 0.667499479816693,\n",
       " 10.401134253051444,\n",
       " 6.414035941709297,\n",
       " 2.46692449606582)"
      ]
     },
     "execution_count": 158,
     "metadata": {},
     "output_type": "execute_result"
    }
   ],
   "source": [
    "get_features(ls_defet_cases)"
   ]
  },
  {
   "cell_type": "code",
   "execution_count": 160,
   "metadata": {},
   "outputs": [
    {
     "data": {
      "text/plain": [
       "(0.3333333333333333,\n",
       " 68.375,\n",
       " 0.42008402520840293,\n",
       " 46.7598585861848,\n",
       " 1.9585845324621511,\n",
       " 1.6011336822038003)"
      ]
     },
     "execution_count": 160,
     "metadata": {},
     "output_type": "execute_result"
    }
   ],
   "source": [
    "get_features(other_defect_cases)"
   ]
  },
  {
   "cell_type": "code",
   "execution_count": 161,
   "metadata": {},
   "outputs": [
    {
     "data": {
      "text/plain": [
       "(0.3103448275862069,\n",
       " 5.580645161290323,\n",
       " 0.3263736246748184,\n",
       " 4.490920545605185,\n",
       " 1.4342385090125982,\n",
       " 1.0206247140737066)"
      ]
     },
     "execution_count": 161,
     "metadata": {},
     "output_type": "execute_result"
    }
   ],
   "source": [
    "get_features(normal_cases)"
   ]
  },
  {
   "cell_type": "code",
   "execution_count": 210,
   "metadata": {
    "collapsed": true
   },
   "outputs": [],
   "source": [
    "# 整体数据的区分很大，因此介入进行数据分析和训练\n",
    "\n",
    "feature_names = ['peaks_num', 'down_peaks_num', 'up_edges_num', 'down_edges_num', 'peak_edge_ratio', 'down_peak_edge_ratio',\n",
    "                 'edge_diff_10', 'edge_diff_20', 'width_diff_10', 'negative_peak_num', 'max_down_peak_point']\n",
    "                \n",
    "def features(df_full, feature_names):\n",
    "    pathes = df_full['case_path']\n",
    "    # print pathes\n",
    "    feature_set = dict()\n",
    "    for name in feature_names:\n",
    "        feature_set[name] = list()\n",
    "    feature_set['inter_diff_mean'] = list()\n",
    "    feature_set['inter_diff_delta'] = list()\n",
    "    \n",
    "    for test_case in pathes:\n",
    "        features = sigMgr.get_features(test_case, request_param={'skip_row':[1], 'model_path':['train']})\n",
    "        for name in feature_names:\n",
    "            feature_set[name].append(features[name])\n",
    "        feature_set['inter_diff_mean'].append(np.mean(features['unit_interviene_length_diff']))\n",
    "        feature_set['inter_diff_delta'].append(np.std(features['unit_interviene_length_diff']))\n",
    "    \n",
    "    return pd.DataFrame(feature_set)"
   ]
  },
  {
   "cell_type": "code",
   "execution_count": 211,
   "metadata": {
    "collapsed": true
   },
   "outputs": [],
   "source": [
    "train_x = features(train_df, feature_names)\n",
    "train_y = train_df['expect_result']"
   ]
  },
  {
   "cell_type": "code",
   "execution_count": 212,
   "metadata": {},
   "outputs": [
    {
     "name": "stderr",
     "output_type": "stream",
     "text": [
      "/Users/changkong/anaconda3/envs/tpy2/lib/python2.7/site-packages/numpy/core/fromnumeric.py:2920: RuntimeWarning: Mean of empty slice.\n",
      "  out=out, **kwargs)\n",
      "/Users/changkong/anaconda3/envs/tpy2/lib/python2.7/site-packages/numpy/core/_methods.py:85: RuntimeWarning: invalid value encountered in double_scalars\n",
      "  ret = ret.dtype.type(ret / rcount)\n",
      "/Users/changkong/anaconda3/envs/tpy2/lib/python2.7/site-packages/numpy/core/_methods.py:140: RuntimeWarning: Degrees of freedom <= 0 for slice\n",
      "  keepdims=keepdims)\n",
      "/Users/changkong/anaconda3/envs/tpy2/lib/python2.7/site-packages/numpy/core/_methods.py:110: RuntimeWarning: invalid value encountered in true_divide\n",
      "  arrmean, rcount, out=arrmean, casting='unsafe', subok=False)\n",
      "/Users/changkong/anaconda3/envs/tpy2/lib/python2.7/site-packages/numpy/core/_methods.py:132: RuntimeWarning: invalid value encountered in double_scalars\n",
      "  ret = ret.dtype.type(ret / rcount)\n"
     ]
    }
   ],
   "source": [
    "test_df = pd.read_csv(data_root + '/' + 'test.csv')\n",
    "test_x = features(test_df, feature_names)\n",
    "test_y = test_df['expect_result']"
   ]
  },
  {
   "cell_type": "code",
   "execution_count": 215,
   "metadata": {},
   "outputs": [
    {
     "name": "stderr",
     "output_type": "stream",
     "text": [
      "/Users/changkong/anaconda3/envs/tpy2/lib/python2.7/site-packages/ipykernel_launcher.py:1: SettingWithCopyWarning: \n",
      "A value is trying to be set on a copy of a slice from a DataFrame\n",
      "\n",
      "See the caveats in the documentation: http://pandas.pydata.org/pandas-docs/stable/indexing.html#indexing-view-versus-copy\n",
      "  \"\"\"Entry point for launching an IPython kernel.\n",
      "/Users/changkong/anaconda3/envs/tpy2/lib/python2.7/site-packages/ipykernel_launcher.py:2: SettingWithCopyWarning: \n",
      "A value is trying to be set on a copy of a slice from a DataFrame\n",
      "\n",
      "See the caveats in the documentation: http://pandas.pydata.org/pandas-docs/stable/indexing.html#indexing-view-versus-copy\n",
      "  \n"
     ]
    }
   ],
   "source": [
    "train_y[train_y == -1] = 0\n",
    "test_y[test_y == -1] = 0"
   ]
  },
  {
   "cell_type": "code",
   "execution_count": 219,
   "metadata": {
    "collapsed": true
   },
   "outputs": [],
   "source": [
    "test_x = test_x.fillna(0)"
   ]
  },
  {
   "cell_type": "code",
   "execution_count": 220,
   "metadata": {},
   "outputs": [
    {
     "name": "stdout",
     "output_type": "stream",
     "text": [
      "              precision    recall  f1-score   support\n",
      "\n",
      "           0       0.89      0.91      0.90       632\n",
      "           1       0.94      0.93      0.94      1030\n",
      "\n",
      "   micro avg       0.92      0.92      0.92      1662\n",
      "   macro avg       0.92      0.92      0.92      1662\n",
      "weighted avg       0.92      0.92      0.92      1662\n",
      "\n"
     ]
    }
   ],
   "source": [
    "from sklearn.ensemble import AdaBoostClassifier as ada\n",
    "from sklearn.linear_model import LogisticRegression as lg\n",
    "from sklearn.metrics import classification_report\n",
    "\n",
    "adaModel = ada(n_estimators=200, learning_rate = 0.5, random_state=10)\n",
    "adaModel.fit(train_x, train_y)\n",
    "pResult = adaModel.predict(test_x)\n",
    "# possiblities = adaModel.predict_proba(test_x)\n",
    "# pResult = [int(p0 < p1 + 0.011) for p0, p1 in possiblities]\n",
    "# pResult = possiblities.where(possiblities >= 0.6, 1, 0)\n",
    "print(classification_report(test_y, pResult))"
   ]
  },
  {
   "cell_type": "code",
   "execution_count": 221,
   "metadata": {},
   "outputs": [
    {
     "name": "stdout",
     "output_type": "stream",
     "text": [
      "              precision    recall  f1-score   support\n",
      "\n",
      "           0       0.90      0.91      0.91       632\n",
      "           1       0.94      0.94      0.94      1030\n",
      "\n",
      "   micro avg       0.93      0.93      0.93      1662\n",
      "   macro avg       0.92      0.92      0.92      1662\n",
      "weighted avg       0.93      0.93      0.93      1662\n",
      "\n"
     ]
    }
   ],
   "source": [
    "from sklearn.ensemble import GradientBoostingClassifier\n",
    "\n",
    "gdbtModel = GradientBoostingClassifier()\n",
    "gdbtModel.fit(train_x, train_y)\n",
    "pResult = gdbtModel.predict(test_x)\n",
    "print(classification_report(test_y, pResult))"
   ]
  },
  {
   "cell_type": "code",
   "execution_count": 222,
   "metadata": {},
   "outputs": [
    {
     "name": "stdout",
     "output_type": "stream",
     "text": [
      "              precision    recall  f1-score   support\n",
      "\n",
      "           0       0.00      0.00      0.00         0\n",
      "           1       1.00      0.99      1.00       123\n",
      "\n",
      "   micro avg       0.99      0.99      0.99       123\n",
      "   macro avg       0.50      0.50      0.50       123\n",
      "weighted avg       1.00      0.99      1.00       123\n",
      "\n"
     ]
    }
   ],
   "source": [
    "ls_eval_df = pd.read_csv(data_root + '/' + 'ls_eval.csv')\n",
    "ls_eval_x = features(ls_eval_df, feature_names)\n",
    "ls_eval_y = ls_eval_df['expect_result']\n",
    "\n",
    "pResult = gdbtModel.predict(ls_eval_x)\n",
    "print(classification_report(ls_eval_y, pResult))"
   ]
  },
  {
   "cell_type": "code",
   "execution_count": 1,
   "metadata": {},
   "outputs": [
    {
     "ename": "NameError",
     "evalue": "name 'DataReader' is not defined",
     "output_type": "error",
     "traceback": [
      "\u001b[0;31m\u001b[0m",
      "\u001b[0;31mNameError\u001b[0mTraceback (most recent call last)",
      "\u001b[0;32m<ipython-input-1-7862de90d2e3>\u001b[0m in \u001b[0;36m<module>\u001b[0;34m()\u001b[0m\n\u001b[1;32m      1\u001b[0m \u001b[0;31m# 开始斜边的波形调研，先看用现有的基线能得到多好的测试结果\u001b[0m\u001b[0;34m\u001b[0m\u001b[0;34m\u001b[0m\u001b[0m\n\u001b[1;32m      2\u001b[0m \u001b[0mSKEW_DATA_FPATH\u001b[0m\u001b[0;34m=\u001b[0m\u001b[0;34m'/Volumes/workspace/projects/signal_classification/data/特殊次品样本/斜角_严重.20190515/'\u001b[0m\u001b[0;34m\u001b[0m\u001b[0m\n\u001b[0;32m----> 3\u001b[0;31m \u001b[0mdata_reader\u001b[0m \u001b[0;34m=\u001b[0m \u001b[0mDataReader\u001b[0m\u001b[0;34m(\u001b[0m\u001b[0;34m)\u001b[0m\u001b[0;34m\u001b[0m\u001b[0m\n\u001b[0m\u001b[1;32m      4\u001b[0m \u001b[0mskew_angel_df\u001b[0m \u001b[0;34m=\u001b[0m \u001b[0mdata_reader\u001b[0m\u001b[0;34m.\u001b[0m\u001b[0mget_signal_list\u001b[0m\u001b[0;34m(\u001b[0m\u001b[0mSKEW_DATA_FPATH\u001b[0m\u001b[0;34m)\u001b[0m\u001b[0;34m\u001b[0m\u001b[0m\n\u001b[1;32m      5\u001b[0m \u001b[0mskew_angel_df\u001b[0m\u001b[0;34m[\u001b[0m\u001b[0;34m'expect_result'\u001b[0m\u001b[0;34m]\u001b[0m \u001b[0;34m=\u001b[0m \u001b[0;36m1\u001b[0m\u001b[0;34m\u001b[0m\u001b[0m\n",
      "\u001b[0;31mNameError\u001b[0m: name 'DataReader' is not defined"
     ]
    }
   ],
   "source": [
    "# 开始斜边的波形调研，先看用现有的基线能得到多好的测试结果\n",
    "SKEW_DATA_FPATH='/Volumes/workspace/projects/signal_classification/data/特殊次品样本/斜角_严重.20190515/'\n",
    "data_reader = DataReader()\n",
    "skew_angel_df = data_reader.get_signal_list(SKEW_DATA_FPATH)\n",
    "skew_angel_df['expect_result'] = 1"
   ]
  },
  {
   "cell_type": "code",
   "execution_count": null,
   "metadata": {
    "collapsed": true
   },
   "outputs": [],
   "source": []
  },
  {
   "cell_type": "code",
   "execution_count": 242,
   "metadata": {
    "collapsed": true
   },
   "outputs": [],
   "source": [
    "test_x = features(skew_angel_df, feature_names)\n",
    "test_y = skew_angel_df['expect_result']"
   ]
  },
  {
   "cell_type": "code",
   "execution_count": 244,
   "metadata": {},
   "outputs": [
    {
     "name": "stdout",
     "output_type": "stream",
     "text": [
      "              precision    recall  f1-score   support\n",
      "\n",
      "           0       0.00      0.00      0.00         0\n",
      "           1       1.00      0.40      0.57       128\n",
      "\n",
      "   micro avg       0.40      0.40      0.40       128\n",
      "   macro avg       0.50      0.20      0.28       128\n",
      "weighted avg       1.00      0.40      0.57       128\n",
      "\n"
     ]
    }
   ],
   "source": [
    "pResult = gdbtModel.predict(test_x)\n",
    "print(classification_report(test_y, pResult))"
   ]
  },
  {
   "cell_type": "code",
   "execution_count": 321,
   "metadata": {},
   "outputs": [
    {
     "data": {
      "text/plain": [
       "<matplotlib.axes._subplots.AxesSubplot at 0x1215c5d90>"
      ]
     },
     "execution_count": 321,
     "metadata": {},
     "output_type": "execute_result"
    },
    {
     "data": {
      "image/png": "[encoded data removed]",
      "text/plain": [
       "<Figure size 432x288 with 1 Axes>"
      ]
     },
     "metadata": {
      "needs_background": "light"
     },
     "output_type": "display_data"
    }
   ],
   "source": [
    "path = skew_angel_df.head()['case_path'][4]\n",
    "signals = pd.read_csv(path, skiprows=1)\n",
    "signals[195:214].plot()"
   ]
  },
  {
   "cell_type": "code",
   "execution_count": 331,
   "metadata": {},
   "outputs": [
    {
     "data": {
      "text/plain": [
       "<matplotlib.axes._subplots.AxesSubplot at 0x121d71c90>"
      ]
     },
     "execution_count": 331,
     "metadata": {},
     "output_type": "execute_result"
    },
    {
     "data": {
      "image/png": "[encoded data removed]",
      "text/plain": [
       "<Figure size 432x288 with 1 Axes>"
      ]
     },
     "metadata": {
      "needs_background": "light"
     },
     "output_type": "display_data"
    }
   ],
   "source": [
    "signals[213:218].plot()"
   ]
  },
  {
   "cell_type": "code",
   "execution_count": 313,
   "metadata": {},
   "outputs": [
    {
     "data": {
      "text/plain": [
       "<matplotlib.axes._subplots.AxesSubplot at 0x12062fd90>"
      ]
     },
     "execution_count": 313,
     "metadata": {},
     "output_type": "execute_result"
    },
    {
     "data": {
      "image/png": "[encoded data removed]",
      "text/plain": [
       "<Figure size 432x288 with 1 Axes>"
      ]
     },
     "metadata": {
      "needs_background": "light"
     },
     "output_type": "display_data"
    }
   ],
   "source": [
    "feas = sigMgr.get_features(path, request_param={'skip_row':[1], 'model_path':['train']})\n",
    "normalized_signals = feas['normalized_signals'] \n",
    "medfiltered_signals = Filter.medfilter(normalized_signals, 9)\n",
    "# pd.DataFrame(medfiltered_signals)[0:300].plot()"
   ]
  },
  {
   "cell_type": "code",
   "execution_count": 314,
   "metadata": {},
   "outputs": [
    {
     "data": {
      "text/plain": [
       "<matplotlib.axes._subplots.AxesSubplot at 0x12062f7d0>"
      ]
     },
     "execution_count": 314,
     "metadata": {},
     "output_type": "execute_result"
    },
    {
     "data": {
      "image/png": "[encoded data removed]",
      "text/plain": [
       "<Figure size 432x288 with 1 Axes>"
      ]
     },
     "metadata": {
      "needs_background": "light"
     },
     "output_type": "display_data"
    }
   ],
   "source": [
    "pd.DataFrame(medfiltered_signals)[0:200].plot()"
   ]
  },
  {
   "cell_type": "code",
   "execution_count": 322,
   "metadata": {},
   "outputs": [
    {
     "data": {
      "text/plain": [
       "[((28, 29), (48, 51)),\n",
       " ((57, 58), (76, 79)),\n",
       " ((90, 96), (112, 114)),\n",
       " ((120, 121), (138, 142)),\n",
       " ((146, 153), (172, 173)),\n",
       " ((181, 182), (199, 202)),\n",
       " ((214, 218), (234, 237)),\n",
       " ((238, 246), (260, 265)),\n",
       " ((273, 278), (295, 297)),\n",
       " ((305, 306), (321, 326)),\n",
       " ((338, 340), (357, 363)),\n",
       " ((367, 369), (384, 389)),\n",
       " ((399, 400), (415, 421)),\n",
       " ((428, 429), (445, 450)),\n",
       " ((461, 468), (484, 485)),\n",
       " ((486, 492), (508, 513)),\n",
       " ((517, 524), (538, 546)),\n",
       " ((552, 553), (570, 573)),\n",
       " ((585, 586), (606, 608)),\n",
       " ((615, 616), (630, 636)),\n",
       " ((641, 649), (664, 670)),\n",
       " ((675, 677), (693, 697)),\n",
       " ((709, 711), (726, 733)),\n",
       " ((738, 744), (754, 760)),\n",
       " ((769, 771), (785, 792)),\n",
       " ((799, 800), (817, 820)),\n",
       " ((832, 834), (853, 855)),\n",
       " ((861, 865), (878, 883)),\n",
       " ((893, 896), (910, 915)),\n",
       " ((922, 924), (941, 944)),\n",
       " ((955, 959), (973, 979)),\n",
       " ((985, 989), (1003, 1007))]"
      ]
     },
     "execution_count": 322,
     "metadata": {},
     "output_type": "execute_result"
    }
   ],
   "source": [
    "feas['paired_edges']"
   ]
  },
  {
   "cell_type": "code",
   "execution_count": 309,
   "metadata": {},
   "outputs": [
    {
     "data": {
      "text/plain": [
       "[0.1404958682471583,\n",
       " 0.13392861212405086,\n",
       " 0.11864405715739103,\n",
       " 0.1090909752693668,\n",
       " 0.09649117415631919,\n",
       " 0.0916666472037649,\n",
       " 0.07377053000128614,\n",
       " 0.07017540809665362,\n",
       " 0.0642201668051558,\n",
       " 0.06194688697706604,\n",
       " 0.05882351357865819,\n",
       " 0.058823481912443555,\n",
       " 0.05217386066866786,\n",
       " 0.05128203373308394,\n",
       " 0.043859611845226416,\n",
       " 0.043103445895483365,\n",
       " 0.04273507300701089,\n",
       " 0.0413222615443611,\n",
       " 0.03448275326483757,\n",
       " 0.034482752074648446,\n",
       " 0.03418806182765728,\n",
       " 0.025862060634191778,\n",
       " 0.0256409830847791,\n",
       " 0.017543865502627095,\n",
       " 0.01754381282108849,\n",
       " 0.008849560500906179,\n",
       " 0.008849542628212737,\n",
       " 0.008771914882722031,\n",
       " 0.008620709590843371,\n",
       " 0.008547011179353603,\n",
       " 7.48373219037784e-08,\n",
       " 3.6398151738252885e-08,\n",
       " 1.771591506217905e-08,\n",
       " 0.0,\n",
       " 0.0]"
      ]
     },
     "execution_count": 309,
     "metadata": {},
     "output_type": "execute_result"
    },
    {
     "data": {
      "image/png": "[encoded data removed]",
      "text/plain": [
       "<Figure size 432x288 with 1 Axes>"
      ]
     },
     "metadata": {
      "needs_background": "light"
     },
     "output_type": "display_data"
    }
   ],
   "source": [
    "path = normal_cases['case_path'].reset_index(drop=True)[5]\n",
    "feas = sigMgr.get_features(path, request_param={'skip_row':[1], 'model_path':['train']})\n",
    "normalized_signals = feas['normalized_signals'] \n",
    "medfiltered_signals = Filter.medfilter(normalized_signals, 5)\n",
    "pd.DataFrame(medfiltered_signals)[0:500].plot()\n",
    "feas['paired_edge_height_diff']"
   ]
  }
 ],
 "metadata": {
  "kernelspec": {
   "display_name": "Python [conda env:tpy2]",
   "language": "python",
   "name": "conda-env-tpy2-py"
  },
  "language_info": {
   "codemirror_mode": {
    "name": "ipython",
    "version": 2
   },
   "file_extension": ".py",
   "mimetype": "text/x-python",
   "name": "python",
   "nbconvert_exporter": "python",
   "pygments_lexer": "ipython2",
   "version": "2.7.15"
  }
 },
 "nbformat": 4,
 "nbformat_minor": 2
}
